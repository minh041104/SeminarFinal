{
  "cells": [
    {
      "cell_type": "markdown",
      "metadata": {
        "id": "view-in-github",
        "colab_type": "text"
      },
      "source": [
        "<a href=\"https://colab.research.google.com/github/minh041104/SeminarFinal/blob/main/seminar.ipynb\" target=\"_parent\"><img src=\"https://colab.research.google.com/assets/colab-badge.svg\" alt=\"Open In Colab\"/></a>"
      ]
    },
    {
      "cell_type": "code",
      "execution_count": null,
      "metadata": {
        "id": "uZgpmShQd-pl",
        "outputId": "1580010a-028f-4a37-f947-84be5d27ce62"
      },
      "outputs": [
        {
          "name": "stdout",
          "output_type": "stream",
          "text": [
            "Requirement already satisfied: nltk in e:\\python\\python312\\lib\\site-packages (3.8.1)\n",
            "Requirement already satisfied: click in e:\\python\\python312\\lib\\site-packages (from nltk) (8.1.7)\n",
            "Requirement already satisfied: joblib in e:\\python\\python312\\lib\\site-packages (from nltk) (1.4.2)\n",
            "Requirement already satisfied: regex>=2021.8.3 in e:\\python\\python312\\lib\\site-packages (from nltk) (2024.5.15)\n",
            "Requirement already satisfied: tqdm in e:\\python\\python312\\lib\\site-packages (from nltk) (4.66.4)\n",
            "Requirement already satisfied: colorama in e:\\python\\python312\\lib\\site-packages (from click->nltk) (0.4.6)\n"
          ]
        },
        {
          "name": "stderr",
          "output_type": "stream",
          "text": [
            "[nltk_data] Downloading package stopwords to\n",
            "[nltk_data]     C:\\Users\\TGDD\\AppData\\Roaming\\nltk_data...\n",
            "[nltk_data]   Package stopwords is already up-to-date!\n",
            "[nltk_data] Downloading package punkt to\n",
            "[nltk_data]     C:\\Users\\TGDD\\AppData\\Roaming\\nltk_data...\n",
            "[nltk_data]   Package punkt is already up-to-date!\n",
            "[nltk_data] Downloading package wordnet to\n",
            "[nltk_data]     C:\\Users\\TGDD\\AppData\\Roaming\\nltk_data...\n",
            "[nltk_data]   Package wordnet is already up-to-date!\n"
          ]
        },
        {
          "data": {
            "text/plain": [
              "True"
            ]
          },
          "execution_count": 1,
          "metadata": {},
          "output_type": "execute_result"
        }
      ],
      "source": [
        "import numpy as np\n",
        "import pandas as pd\n",
        "import matplotlib.pyplot as plt\n",
        "import re\n",
        "import nltk\n",
        "!pip install nltk\n",
        "from nltk.corpus import stopwords\n",
        "from nltk.tokenize import word_tokenize\n",
        "from nltk.stem import PorterStemmer, WordNetLemmatizer\n",
        "nltk.download('stopwords')\n",
        "nltk.download('punkt')\n",
        "nltk.download('wordnet')"
      ]
    },
    {
      "cell_type": "markdown",
      "metadata": {
        "id": "x361ffnId-p4"
      },
      "source": [
        "# Thu thập dữ liệu"
      ]
    },
    {
      "cell_type": "markdown",
      "metadata": {
        "id": "_1uBp0A6d-qG"
      },
      "source": [
        "Thu thập dữ liệu từ Kaggle. Đường dẫn: https://www.kaggle.com/datasets/amananandrai/ag-news-classification-dataset"
      ]
    },
    {
      "cell_type": "markdown",
      "metadata": {
        "id": "w7WArdpbd-qJ"
      },
      "source": [
        "Giới thiệu về tập dữ liệu:\n",
        "1. Nguồn gốc:\n",
        "AG là tập hợp của hơn triệu bài báo. Các bài viết tin tức được tổng hợp từ hơn 2000 nguồn tin tức trong hơn một năm.\n",
        "2. Mô tả:\n",
        "Tập dữ liệu phân loại chủ đề tin tức của AG được xây dựng bằng cách chọn 4 lớp lớn nhất trong bộ dữ liệu gốc. Mỗi lớp chứa 30,000 mẫu huấn luyện và 1,900. Tổng số dữ liệu trong tập train là 120,000 và trong tập test là 7,600.\n",
        "\n",
        "Bộ dữ liệu gồm có 3 cột:\n",
        "- Class Index: Gồm có 4 loại. 1-World, 2-Sport, 3-Business, 4-Sci/Tech.\n",
        "- Title: Chứa tiêu đề của các bài báo.\n",
        "- Description: Chứa mô tả của các bài báo."
      ]
    },
    {
      "cell_type": "markdown",
      "metadata": {
        "id": "sPMisesgd-qL"
      },
      "source": [
        "# Xử lý dữ liệu"
      ]
    },
    {
      "cell_type": "code",
      "execution_count": null,
      "metadata": {
        "id": "jHn8Zp1Ld-qN"
      },
      "outputs": [],
      "source": [
        "train_data = pd.read_csv('train.csv')\n",
        "test_data = pd.read_csv('test.csv')"
      ]
    },
    {
      "cell_type": "code",
      "execution_count": null,
      "metadata": {
        "id": "dTdmaY5nd-qQ",
        "outputId": "c2a48d79-2f71-492a-ff1a-6fa6157a3936"
      },
      "outputs": [
        {
          "data": {
            "text/html": [
              "<div>\n",
              "<style scoped>\n",
              "    .dataframe tbody tr th:only-of-type {\n",
              "        vertical-align: middle;\n",
              "    }\n",
              "\n",
              "    .dataframe tbody tr th {\n",
              "        vertical-align: top;\n",
              "    }\n",
              "\n",
              "    .dataframe thead th {\n",
              "        text-align: right;\n",
              "    }\n",
              "</style>\n",
              "<table border=\"1\" class=\"dataframe\">\n",
              "  <thead>\n",
              "    <tr style=\"text-align: right;\">\n",
              "      <th></th>\n",
              "      <th>Class Index</th>\n",
              "      <th>Title</th>\n",
              "      <th>Description</th>\n",
              "    </tr>\n",
              "  </thead>\n",
              "  <tbody>\n",
              "    <tr>\n",
              "      <th>0</th>\n",
              "      <td>3</td>\n",
              "      <td>Wall St. Bears Claw Back Into the Black (Reuters)</td>\n",
              "      <td>Reuters - Short-sellers, Wall Street's dwindli...</td>\n",
              "    </tr>\n",
              "    <tr>\n",
              "      <th>1</th>\n",
              "      <td>3</td>\n",
              "      <td>Carlyle Looks Toward Commercial Aerospace (Reu...</td>\n",
              "      <td>Reuters - Private investment firm Carlyle Grou...</td>\n",
              "    </tr>\n",
              "    <tr>\n",
              "      <th>2</th>\n",
              "      <td>3</td>\n",
              "      <td>Oil and Economy Cloud Stocks' Outlook (Reuters)</td>\n",
              "      <td>Reuters - Soaring crude prices plus worries\\ab...</td>\n",
              "    </tr>\n",
              "    <tr>\n",
              "      <th>3</th>\n",
              "      <td>3</td>\n",
              "      <td>Iraq Halts Oil Exports from Main Southern Pipe...</td>\n",
              "      <td>Reuters - Authorities have halted oil export\\f...</td>\n",
              "    </tr>\n",
              "    <tr>\n",
              "      <th>4</th>\n",
              "      <td>3</td>\n",
              "      <td>Oil prices soar to all-time record, posing new...</td>\n",
              "      <td>AFP - Tearaway world oil prices, toppling reco...</td>\n",
              "    </tr>\n",
              "    <tr>\n",
              "      <th>...</th>\n",
              "      <td>...</td>\n",
              "      <td>...</td>\n",
              "      <td>...</td>\n",
              "    </tr>\n",
              "    <tr>\n",
              "      <th>119995</th>\n",
              "      <td>1</td>\n",
              "      <td>Pakistan's Musharraf Says Won't Quit as Army C...</td>\n",
              "      <td>KARACHI (Reuters) - Pakistani President Perve...</td>\n",
              "    </tr>\n",
              "    <tr>\n",
              "      <th>119996</th>\n",
              "      <td>2</td>\n",
              "      <td>Renteria signing a top-shelf deal</td>\n",
              "      <td>Red Sox general manager Theo Epstein acknowled...</td>\n",
              "    </tr>\n",
              "    <tr>\n",
              "      <th>119997</th>\n",
              "      <td>2</td>\n",
              "      <td>Saban not going to Dolphins yet</td>\n",
              "      <td>The Miami Dolphins will put their courtship of...</td>\n",
              "    </tr>\n",
              "    <tr>\n",
              "      <th>119998</th>\n",
              "      <td>2</td>\n",
              "      <td>Today's NFL games</td>\n",
              "      <td>PITTSBURGH at NY GIANTS Time: 1:30 p.m. Line: ...</td>\n",
              "    </tr>\n",
              "    <tr>\n",
              "      <th>119999</th>\n",
              "      <td>2</td>\n",
              "      <td>Nets get Carter from Raptors</td>\n",
              "      <td>INDIANAPOLIS -- All-Star Vince Carter was trad...</td>\n",
              "    </tr>\n",
              "  </tbody>\n",
              "</table>\n",
              "<p>120000 rows × 3 columns</p>\n",
              "</div>"
            ],
            "text/plain": [
              "        Class Index                                              Title  \\\n",
              "0                 3  Wall St. Bears Claw Back Into the Black (Reuters)   \n",
              "1                 3  Carlyle Looks Toward Commercial Aerospace (Reu...   \n",
              "2                 3    Oil and Economy Cloud Stocks' Outlook (Reuters)   \n",
              "3                 3  Iraq Halts Oil Exports from Main Southern Pipe...   \n",
              "4                 3  Oil prices soar to all-time record, posing new...   \n",
              "...             ...                                                ...   \n",
              "119995            1  Pakistan's Musharraf Says Won't Quit as Army C...   \n",
              "119996            2                  Renteria signing a top-shelf deal   \n",
              "119997            2                    Saban not going to Dolphins yet   \n",
              "119998            2                                  Today's NFL games   \n",
              "119999            2                       Nets get Carter from Raptors   \n",
              "\n",
              "                                              Description  \n",
              "0       Reuters - Short-sellers, Wall Street's dwindli...  \n",
              "1       Reuters - Private investment firm Carlyle Grou...  \n",
              "2       Reuters - Soaring crude prices plus worries\\ab...  \n",
              "3       Reuters - Authorities have halted oil export\\f...  \n",
              "4       AFP - Tearaway world oil prices, toppling reco...  \n",
              "...                                                   ...  \n",
              "119995   KARACHI (Reuters) - Pakistani President Perve...  \n",
              "119996  Red Sox general manager Theo Epstein acknowled...  \n",
              "119997  The Miami Dolphins will put their courtship of...  \n",
              "119998  PITTSBURGH at NY GIANTS Time: 1:30 p.m. Line: ...  \n",
              "119999  INDIANAPOLIS -- All-Star Vince Carter was trad...  \n",
              "\n",
              "[120000 rows x 3 columns]"
            ]
          },
          "execution_count": 3,
          "metadata": {},
          "output_type": "execute_result"
        }
      ],
      "source": [
        "train_data"
      ]
    },
    {
      "cell_type": "markdown",
      "metadata": {
        "id": "uwn0uUU3d-qU"
      },
      "source": [
        "## Kiểm tra dữ liệu thiếu"
      ]
    },
    {
      "cell_type": "code",
      "execution_count": null,
      "metadata": {
        "id": "bbwzsqIUd-qV",
        "outputId": "9c6db5c9-74ce-46db-91b8-829c4271c243"
      },
      "outputs": [
        {
          "data": {
            "text/plain": [
              "Class Index    0\n",
              "Title          0\n",
              "Description    0\n",
              "dtype: int64"
            ]
          },
          "execution_count": 4,
          "metadata": {},
          "output_type": "execute_result"
        }
      ],
      "source": [
        "train_data.isna().sum()"
      ]
    },
    {
      "cell_type": "code",
      "execution_count": null,
      "metadata": {
        "id": "G4QGh2Jnd-qX",
        "outputId": "13102e51-c5d5-4d88-d372-71cd2d064209"
      },
      "outputs": [
        {
          "data": {
            "text/plain": [
              "Class Index    0\n",
              "Title          0\n",
              "Description    0\n",
              "dtype: int64"
            ]
          },
          "execution_count": 5,
          "metadata": {},
          "output_type": "execute_result"
        }
      ],
      "source": [
        "test_data.isna().sum()"
      ]
    },
    {
      "cell_type": "code",
      "execution_count": null,
      "metadata": {
        "id": "nGZ_mFSRd-qZ",
        "outputId": "95a0c192-8c28-4e71-8cd5-55b683b6e936"
      },
      "outputs": [
        {
          "data": {
            "text/plain": [
              "Class Index    0\n",
              "Title          0\n",
              "Description    0\n",
              "dtype: int64"
            ]
          },
          "execution_count": 6,
          "metadata": {},
          "output_type": "execute_result"
        }
      ],
      "source": [
        "train_data.isnull().sum()"
      ]
    },
    {
      "cell_type": "code",
      "execution_count": null,
      "metadata": {
        "id": "4A-AwERZd-qa",
        "outputId": "a9f66ef6-32e2-4eac-828e-87e9e345c5a1"
      },
      "outputs": [
        {
          "data": {
            "text/plain": [
              "Class Index    0\n",
              "Title          0\n",
              "Description    0\n",
              "dtype: int64"
            ]
          },
          "execution_count": 7,
          "metadata": {},
          "output_type": "execute_result"
        }
      ],
      "source": [
        "test_data.isnull().sum()"
      ]
    },
    {
      "cell_type": "markdown",
      "metadata": {
        "id": "liL2qSBtd-qc"
      },
      "source": [
        "## Kết hợp hai cột Title và Description thành một cột"
      ]
    },
    {
      "cell_type": "markdown",
      "metadata": {
        "id": "s-e73cFSd-qd"
      },
      "source": [
        "Ghép hai cột này lại để có thể có được ngữ cảnh đầy đủ hơn. Title cung cấp nội dung ngắn gọn, Description cung cấp thêm vài thông tin chi tiết. Khi kết hợp lại giúp mô hình có thêm nhiều thông tin hơn để dự đoán"
      ]
    },
    {
      "cell_type": "code",
      "execution_count": null,
      "metadata": {
        "id": "cuaF5DUWd-qd"
      },
      "outputs": [],
      "source": [
        "train_data['CombinedText'] = train_data['Title'] + ' - ' + train_data['Description']\n",
        "test_data['CombinedText'] = test_data['Title'] + ' - ' + test_data['Description']"
      ]
    },
    {
      "cell_type": "code",
      "execution_count": null,
      "metadata": {
        "id": "sgWjJ1Lsd-qe",
        "outputId": "d04098c4-5b47-42f8-c20d-546be645b789"
      },
      "outputs": [
        {
          "data": {
            "text/html": [
              "<div>\n",
              "<style scoped>\n",
              "    .dataframe tbody tr th:only-of-type {\n",
              "        vertical-align: middle;\n",
              "    }\n",
              "\n",
              "    .dataframe tbody tr th {\n",
              "        vertical-align: top;\n",
              "    }\n",
              "\n",
              "    .dataframe thead th {\n",
              "        text-align: right;\n",
              "    }\n",
              "</style>\n",
              "<table border=\"1\" class=\"dataframe\">\n",
              "  <thead>\n",
              "    <tr style=\"text-align: right;\">\n",
              "      <th></th>\n",
              "      <th>Class Index</th>\n",
              "      <th>Title</th>\n",
              "      <th>Description</th>\n",
              "      <th>CombinedText</th>\n",
              "    </tr>\n",
              "  </thead>\n",
              "  <tbody>\n",
              "    <tr>\n",
              "      <th>0</th>\n",
              "      <td>3</td>\n",
              "      <td>Wall St. Bears Claw Back Into the Black (Reuters)</td>\n",
              "      <td>Reuters - Short-sellers, Wall Street's dwindli...</td>\n",
              "      <td>Wall St. Bears Claw Back Into the Black (Reute...</td>\n",
              "    </tr>\n",
              "    <tr>\n",
              "      <th>1</th>\n",
              "      <td>3</td>\n",
              "      <td>Carlyle Looks Toward Commercial Aerospace (Reu...</td>\n",
              "      <td>Reuters - Private investment firm Carlyle Grou...</td>\n",
              "      <td>Carlyle Looks Toward Commercial Aerospace (Reu...</td>\n",
              "    </tr>\n",
              "    <tr>\n",
              "      <th>2</th>\n",
              "      <td>3</td>\n",
              "      <td>Oil and Economy Cloud Stocks' Outlook (Reuters)</td>\n",
              "      <td>Reuters - Soaring crude prices plus worries\\ab...</td>\n",
              "      <td>Oil and Economy Cloud Stocks' Outlook (Reuters...</td>\n",
              "    </tr>\n",
              "    <tr>\n",
              "      <th>3</th>\n",
              "      <td>3</td>\n",
              "      <td>Iraq Halts Oil Exports from Main Southern Pipe...</td>\n",
              "      <td>Reuters - Authorities have halted oil export\\f...</td>\n",
              "      <td>Iraq Halts Oil Exports from Main Southern Pipe...</td>\n",
              "    </tr>\n",
              "    <tr>\n",
              "      <th>4</th>\n",
              "      <td>3</td>\n",
              "      <td>Oil prices soar to all-time record, posing new...</td>\n",
              "      <td>AFP - Tearaway world oil prices, toppling reco...</td>\n",
              "      <td>Oil prices soar to all-time record, posing new...</td>\n",
              "    </tr>\n",
              "    <tr>\n",
              "      <th>...</th>\n",
              "      <td>...</td>\n",
              "      <td>...</td>\n",
              "      <td>...</td>\n",
              "      <td>...</td>\n",
              "    </tr>\n",
              "    <tr>\n",
              "      <th>119995</th>\n",
              "      <td>1</td>\n",
              "      <td>Pakistan's Musharraf Says Won't Quit as Army C...</td>\n",
              "      <td>KARACHI (Reuters) - Pakistani President Perve...</td>\n",
              "      <td>Pakistan's Musharraf Says Won't Quit as Army C...</td>\n",
              "    </tr>\n",
              "    <tr>\n",
              "      <th>119996</th>\n",
              "      <td>2</td>\n",
              "      <td>Renteria signing a top-shelf deal</td>\n",
              "      <td>Red Sox general manager Theo Epstein acknowled...</td>\n",
              "      <td>Renteria signing a top-shelf deal - Red Sox ge...</td>\n",
              "    </tr>\n",
              "    <tr>\n",
              "      <th>119997</th>\n",
              "      <td>2</td>\n",
              "      <td>Saban not going to Dolphins yet</td>\n",
              "      <td>The Miami Dolphins will put their courtship of...</td>\n",
              "      <td>Saban not going to Dolphins yet - The Miami Do...</td>\n",
              "    </tr>\n",
              "    <tr>\n",
              "      <th>119998</th>\n",
              "      <td>2</td>\n",
              "      <td>Today's NFL games</td>\n",
              "      <td>PITTSBURGH at NY GIANTS Time: 1:30 p.m. Line: ...</td>\n",
              "      <td>Today's NFL games - PITTSBURGH at NY GIANTS Ti...</td>\n",
              "    </tr>\n",
              "    <tr>\n",
              "      <th>119999</th>\n",
              "      <td>2</td>\n",
              "      <td>Nets get Carter from Raptors</td>\n",
              "      <td>INDIANAPOLIS -- All-Star Vince Carter was trad...</td>\n",
              "      <td>Nets get Carter from Raptors - INDIANAPOLIS --...</td>\n",
              "    </tr>\n",
              "  </tbody>\n",
              "</table>\n",
              "<p>120000 rows × 4 columns</p>\n",
              "</div>"
            ],
            "text/plain": [
              "        Class Index                                              Title  \\\n",
              "0                 3  Wall St. Bears Claw Back Into the Black (Reuters)   \n",
              "1                 3  Carlyle Looks Toward Commercial Aerospace (Reu...   \n",
              "2                 3    Oil and Economy Cloud Stocks' Outlook (Reuters)   \n",
              "3                 3  Iraq Halts Oil Exports from Main Southern Pipe...   \n",
              "4                 3  Oil prices soar to all-time record, posing new...   \n",
              "...             ...                                                ...   \n",
              "119995            1  Pakistan's Musharraf Says Won't Quit as Army C...   \n",
              "119996            2                  Renteria signing a top-shelf deal   \n",
              "119997            2                    Saban not going to Dolphins yet   \n",
              "119998            2                                  Today's NFL games   \n",
              "119999            2                       Nets get Carter from Raptors   \n",
              "\n",
              "                                              Description  \\\n",
              "0       Reuters - Short-sellers, Wall Street's dwindli...   \n",
              "1       Reuters - Private investment firm Carlyle Grou...   \n",
              "2       Reuters - Soaring crude prices plus worries\\ab...   \n",
              "3       Reuters - Authorities have halted oil export\\f...   \n",
              "4       AFP - Tearaway world oil prices, toppling reco...   \n",
              "...                                                   ...   \n",
              "119995   KARACHI (Reuters) - Pakistani President Perve...   \n",
              "119996  Red Sox general manager Theo Epstein acknowled...   \n",
              "119997  The Miami Dolphins will put their courtship of...   \n",
              "119998  PITTSBURGH at NY GIANTS Time: 1:30 p.m. Line: ...   \n",
              "119999  INDIANAPOLIS -- All-Star Vince Carter was trad...   \n",
              "\n",
              "                                             CombinedText  \n",
              "0       Wall St. Bears Claw Back Into the Black (Reute...  \n",
              "1       Carlyle Looks Toward Commercial Aerospace (Reu...  \n",
              "2       Oil and Economy Cloud Stocks' Outlook (Reuters...  \n",
              "3       Iraq Halts Oil Exports from Main Southern Pipe...  \n",
              "4       Oil prices soar to all-time record, posing new...  \n",
              "...                                                   ...  \n",
              "119995  Pakistan's Musharraf Says Won't Quit as Army C...  \n",
              "119996  Renteria signing a top-shelf deal - Red Sox ge...  \n",
              "119997  Saban not going to Dolphins yet - The Miami Do...  \n",
              "119998  Today's NFL games - PITTSBURGH at NY GIANTS Ti...  \n",
              "119999  Nets get Carter from Raptors - INDIANAPOLIS --...  \n",
              "\n",
              "[120000 rows x 4 columns]"
            ]
          },
          "execution_count": 9,
          "metadata": {},
          "output_type": "execute_result"
        }
      ],
      "source": [
        "train_data"
      ]
    },
    {
      "cell_type": "markdown",
      "metadata": {
        "id": "02ev1igXd-qf"
      },
      "source": [
        "\n",
        "\n",
        "```\n",
        "# Định dạng của đoạn này là mã\n",
        "```\n",
        "\n",
        "## Chuyển về chữ thường"
      ]
    },
    {
      "cell_type": "code",
      "execution_count": null,
      "metadata": {
        "id": "NorV9d8fd-qf"
      },
      "outputs": [],
      "source": [
        "train_data['CombinedText'] = train_data['CombinedText'].str.lower()\n",
        "test_data['CombinedText'] = test_data['CombinedText'].str.lower()"
      ]
    },
    {
      "cell_type": "code",
      "source": [],
      "metadata": {
        "id": "K2hMchr5tKNg"
      },
      "execution_count": null,
      "outputs": []
    },
    {
      "cell_type": "markdown",
      "metadata": {
        "id": "BVXDMKLId-qg"
      },
      "source": [
        "## Loại bỏ URL"
      ]
    },
    {
      "cell_type": "code",
      "execution_count": null,
      "metadata": {
        "id": "aSKBNqGwd-qg"
      },
      "outputs": [],
      "source": [
        "def url_remove(text):\n",
        "    url = re.compile(r'https?://\\S+|www\\.\\S+')\n",
        "    return url.sub('', text)\n",
        "\n",
        "train_data['CombinedText'] = train_data['CombinedText'].apply(url_remove)\n",
        "test_data['CombinedText'] = test_data['CombinedText'].apply(url_remove)"
      ]
    },
    {
      "cell_type": "markdown",
      "metadata": {
        "id": "OvfoJoLAd-qh"
      },
      "source": [
        "## Loại bỏ hashtag"
      ]
    },
    {
      "cell_type": "code",
      "execution_count": null,
      "metadata": {
        "id": "QZYSclLsd-qj"
      },
      "outputs": [],
      "source": [
        "def remove_hashtag(text):\n",
        "    hashtag_pattern = re.compile(r'#\\w+')\n",
        "    cleaned_text = hashtag_pattern.sub('', text)\n",
        "    return cleaned_text\n",
        "\n",
        "train_data['CombinedText'] = train_data['CombinedText'].apply(remove_hashtag)\n",
        "test_data['CombinedText'] = test_data['CombinedText'].apply(remove_hashtag)"
      ]
    },
    {
      "cell_type": "markdown",
      "metadata": {
        "id": "FVvflXucd-qk"
      },
      "source": [
        "## Loại bỏ thẻ html"
      ]
    },
    {
      "cell_type": "code",
      "execution_count": null,
      "metadata": {
        "id": "k5j2GMUGd-qk"
      },
      "outputs": [],
      "source": [
        "def remove_html_tag(text):\n",
        "    html = re.compile('<.*?')\n",
        "    cleaned_text = html.sub('', text)\n",
        "    return cleaned_text\n",
        "\n",
        "train_data['CombinedText'] = train_data['CombinedText'].apply(remove_html_tag)\n",
        "test_data['CombinedText'] = test_data['CombinedText'].apply(remove_html_tag)"
      ]
    },
    {
      "cell_type": "markdown",
      "metadata": {
        "id": "NlPbV6Cld-ql"
      },
      "source": [
        "## Mở rộng các từ viết tắt"
      ]
    },
    {
      "cell_type": "code",
      "execution_count": null,
      "metadata": {
        "id": "bIIADYIFd-ql"
      },
      "outputs": [],
      "source": [
        "contractions = {\"ain't\": \"are not\",\"'s\":\" is\",\"aren't\": \"are not\", \"n't\" : \"not\"}\n",
        "\n",
        "def expand_contractions(text, contractions):\n",
        "    for contraction, expansion in contractions.items():\n",
        "        text = text.replace(contraction, expansion)\n",
        "    return text\n",
        "\n",
        "train_data['CombinedText'] = train_data['CombinedText'].apply(lambda x: expand_contractions(x, contractions))\n",
        "test_data['CombinedText'] = test_data['CombinedText'].apply(lambda x: expand_contractions(x, contractions))"
      ]
    },
    {
      "cell_type": "markdown",
      "metadata": {
        "id": "XAIXaIuBd-ql"
      },
      "source": [
        "## Loại bỏ các dấu câu"
      ]
    },
    {
      "cell_type": "code",
      "execution_count": null,
      "metadata": {
        "id": "vs2mrsMKd-qm"
      },
      "outputs": [],
      "source": [
        "def remove_punctuation(text):\n",
        "    punctuation_pattern = re.compile(r'[^\\w\\s]')\n",
        "    cleaned_text = punctuation_pattern.sub('', text)\n",
        "    return cleaned_text\n",
        "\n",
        "train_data['CombinedText'] = train_data['CombinedText'].apply(remove_punctuation)\n",
        "test_data['CombinedText'] = test_data['CombinedText'].apply(remove_punctuation)"
      ]
    },
    {
      "cell_type": "markdown",
      "metadata": {
        "id": "A5J-4tfwd-qm"
      },
      "source": [
        "## Loại bỏ các chữ số"
      ]
    },
    {
      "cell_type": "code",
      "execution_count": null,
      "metadata": {
        "id": "GS7fU4i4d-qn"
      },
      "outputs": [],
      "source": [
        "def remove_digits(text):\n",
        "    digits_pattern = re.compile(r'\\d+')\n",
        "    cleaned_text = digits_pattern.sub('', text)\n",
        "    return cleaned_text\n",
        "\n",
        "train_data['CombinedText'] = train_data['CombinedText'].apply(remove_digits)\n",
        "test_data['CombinedText'] = test_data['CombinedText'].apply(remove_digits)"
      ]
    },
    {
      "cell_type": "markdown",
      "metadata": {
        "id": "T9APeS3hd-qn"
      },
      "source": [
        "## Loại bỏ stopwords"
      ]
    },
    {
      "cell_type": "code",
      "execution_count": null,
      "metadata": {
        "id": "bRsjo13ld-qp"
      },
      "outputs": [],
      "source": [
        "def remove_stopwords(text):\n",
        "    stop_words = set(stopwords.words('english'))\n",
        "    tokens = text.split()\n",
        "    filtered_tokens = [word for word in tokens if word.lower() not in stop_words]\n",
        "    cleaned_text = ' '.join(filtered_tokens)\n",
        "    return cleaned_text\n",
        "\n",
        "train_data['CombinedText'] = train_data['CombinedText'].apply(remove_stopwords)\n",
        "test_data['CombinedText'] = test_data['CombinedText'].apply(remove_stopwords)"
      ]
    },
    {
      "cell_type": "markdown",
      "metadata": {
        "id": "gZDdguW5d-qr"
      },
      "source": [
        "## Tokenization"
      ]
    },
    {
      "cell_type": "code",
      "execution_count": null,
      "metadata": {
        "id": "yidQu5lDd-qs"
      },
      "outputs": [],
      "source": [
        "train_data['CombinedText'] = train_data['CombinedText'].apply(word_tokenize)\n",
        "test_data['CombinedText'] = test_data['CombinedText'].apply(word_tokenize)"
      ]
    },
    {
      "cell_type": "markdown",
      "metadata": {
        "id": "RbsN6jMhd-qs"
      },
      "source": [
        "## Stemming và Lemmatization"
      ]
    },
    {
      "cell_type": "markdown",
      "metadata": {
        "id": "X2LS987Yd-qu"
      },
      "source": [
        "- Stemming\n",
        "    - Là kỹ thuật dùng để biến đổi 1 từ về dạng gốc bằng cách cực kỳ đơn giản là loại bỏ 1 số ký tự nằm ở cuối từ mà nó nghĩ rằng là biến thể của từ.\n",
        "    - Ví dụ như chúng ta thấy các từ như walked, walking, walks chỉ khác nhau là ở những ký tự cuối cùng, bằng cách bỏ đi các hậu tố -ed, -ing hoặc -s, chúng ta sẽ được từ nguyên gốc là walk.\n",
        "    - Nó có một số nhược điểm như khi gặp từ goes sẽ được stem thành goe trong khi stem của go là go. Kết quả của hai từ goes và go sau khi stem không giống nhau. Nhược điểm khác như khi gặp từ bất quy tắc thì không thể đưa went về dạng go.\n",
        "- Lemmatization\n",
        "    - Lemmatization cũng như Stemming nhưng nó thực hiện việc chuẩn hóa từ thành từ gốc một cách chính xác hơn bằng cách sử dụng kiến thức ngôn ngữ và từ điển.\n",
        "    - Quá trình này thường yêu cầu sử dụng thông tin ngữ cảnh và từ điển để xác định từ gốc của một từ.\n",
        "    - Điều này sẽ đảm bảo rằng các từ như “goes“, “went” và “go” sẽ chắc chắn có kết quả trả về là như nhau.\n",
        "    "
      ]
    },
    {
      "cell_type": "code",
      "execution_count": null,
      "metadata": {
        "id": "mbW2Pwi_d-qu"
      },
      "outputs": [],
      "source": [
        "ps = PorterStemmer()\n",
        "lemmatizer = WordNetLemmatizer()\n",
        "\n",
        "def stem_words(words):\n",
        "    return [ps.stem(word) for word in words]\n",
        "\n",
        "def lemmatize_words(words):\n",
        "    return [lemmatizer.lemmatize(word) for word in words]\n",
        "\n",
        "train_data['CombinedText'] = train_data['CombinedText'].apply(stem_words)\n",
        "test_data['CombinedText'] = test_data['CombinedText'].apply(stem_words)\n",
        "\n",
        "train_data['CombinedText'] = train_data['CombinedText'].apply(lemmatize_words)\n",
        "test_data['CombinedText'] = test_data['CombinedText'].apply(lemmatize_words)"
      ]
    },
    {
      "cell_type": "markdown",
      "metadata": {
        "id": "s8FMyleJd-qv"
      },
      "source": [
        "# Trích xuất dữ liệu"
      ]
    },
    {
      "cell_type": "markdown",
      "metadata": {
        "id": "OvtszslYd-qw"
      },
      "source": [
        "## TF-IDF"
      ]
    },
    {
      "cell_type": "code",
      "execution_count": null,
      "metadata": {
        "id": "APhl2mukd-q8"
      },
      "outputs": [],
      "source": [
        "from sklearn.feature_extraction.text import TfidfVectorizer\n",
        "\n",
        "train_data['Text'] = train_data['CombinedText'].apply(lambda x: ' '.join(x))\n",
        "test_data['Text'] = test_data['CombinedText'].apply(lambda x: ' '.join(x))\n",
        "\n",
        "vectorizer = TfidfVectorizer()\n",
        "tfidf_matrix_train = vectorizer.fit_transform(train_data['Text'])\n",
        "tfidf_matrix_test = vectorizer.transform(test_data['Text'])"
      ]
    },
    {
      "cell_type": "markdown",
      "metadata": {
        "id": "mtaZf-hkd-q-"
      },
      "source": [
        "## Bag of Words"
      ]
    },
    {
      "cell_type": "code",
      "execution_count": null,
      "metadata": {
        "id": "RSeoNvujd-q_"
      },
      "outputs": [],
      "source": [
        "from sklearn.feature_extraction.text import CountVectorizer\n",
        "\n",
        "vectorizer = CountVectorizer()\n",
        "\n",
        "bow_matrix_train = vectorizer.fit_transform(train_data['Text'])\n",
        "bow_matrix_test = vectorizer.transform(test_data['Text'])"
      ]
    },
    {
      "cell_type": "markdown",
      "metadata": {
        "id": "YCkCiA5dd-q_"
      },
      "source": [
        "# Model"
      ]
    },
    {
      "cell_type": "code",
      "execution_count": null,
      "metadata": {
        "id": "8cS9-ePSd-rB"
      },
      "outputs": [],
      "source": [
        "from scipy.sparse import hstack\n",
        "\n",
        "# Kết hợp ma trận TF-IDF và BoW cho tập huấn luyện\n",
        "combined_matrix_train = hstack([tfidf_matrix_train, bow_matrix_train])\n",
        "\n",
        "# Kết hợp ma trận TF-IDF và BoW cho tập kiểm tra\n",
        "combined_matrix_test = hstack([tfidf_matrix_test, bow_matrix_test])"
      ]
    },
    {
      "cell_type": "markdown",
      "metadata": {
        "id": "-kNskTiWd-rD"
      },
      "source": [
        "## KNN"
      ]
    },
    {
      "cell_type": "markdown",
      "metadata": {
        "id": "F8jTjqDtd-rE"
      },
      "source": [
        "### 5000 training data"
      ]
    },
    {
      "cell_type": "code",
      "execution_count": null,
      "metadata": {
        "id": "SPtjbvgid-rE",
        "outputId": "ba448eb2-8605-43a2-8b43-e31258490452"
      },
      "outputs": [
        {
          "name": "stdout",
          "output_type": "stream",
          "text": [
            "Accuracy (KNN): 0.5668421052631579\n"
          ]
        }
      ],
      "source": [
        "from sklearn.neighbors import KNeighborsClassifier\n",
        "from sklearn.metrics import accuracy_score\n",
        "import numpy as np\n",
        "\n",
        "# Chọn ngẫu nhiên 5000 chỉ mục từ tập dữ liệu huấn luyện\n",
        "train_random_indices = np.random.choice(combined_matrix_train.shape[0], 5000, replace=False)\n",
        "\n",
        "# Lấy các dòng tương ứng từ ma trận kết hợp huấn luyện\n",
        "combined_matrix_train_5000 = combined_matrix_train[train_random_indices]\n",
        "\n",
        "# Khởi tạo mô hình KNN với số láng giềng k=5 (có thể điều chỉnh)\n",
        "knn_model = KNeighborsClassifier(n_neighbors=5)\n",
        "\n",
        "# Huấn luyện mô hình trên mẫu dữ liệu mới chỉ chứa 5000 mẫu\n",
        "knn_model.fit(combined_matrix_train_5000, train_data['Class Index'].iloc[train_random_indices])\n",
        "\n",
        "# Dự đoán nhãn cho tập kiểm tra\n",
        "y_pred_knn = knn_model.predict(combined_matrix_test)\n",
        "\n",
        "# Đánh giá mô hình trên tập kiểm tra\n",
        "accuracy_knn = accuracy_score(test_data['Class Index'], y_pred_knn)\n",
        "print(\"Accuracy (KNN):\", accuracy_knn)"
      ]
    },
    {
      "cell_type": "markdown",
      "metadata": {
        "id": "xL93Ulhud-rN"
      },
      "source": [
        "### 10000 training data"
      ]
    },
    {
      "cell_type": "code",
      "execution_count": null,
      "metadata": {
        "id": "uMPBqp3Ld-rO",
        "outputId": "82e9d705-bab4-4c48-f295-26a1d22e73cc"
      },
      "outputs": [
        {
          "name": "stdout",
          "output_type": "stream",
          "text": [
            "Accuracy (KNN): 0.5747368421052632\n"
          ]
        }
      ],
      "source": [
        "from sklearn.neighbors import KNeighborsClassifier\n",
        "from sklearn.metrics import accuracy_score\n",
        "import numpy as np\n",
        "\n",
        "# Chọn ngẫu nhiên 10000 chỉ mục từ tập dữ liệu huấn luyện\n",
        "train_random_indices = np.random.choice(combined_matrix_train.shape[0], 10000, replace=False)\n",
        "\n",
        "# Lấy các dòng tương ứng từ ma trận kết hợp huấn luyện\n",
        "combined_matrix_train_10000 = combined_matrix_train[train_random_indices]\n",
        "\n",
        "# Khởi tạo mô hình KNN với số láng giềng k=5 (có thể điều chỉnh)\n",
        "knn_model = KNeighborsClassifier(n_neighbors=5)\n",
        "\n",
        "# Huấn luyện mô hình trên mẫu dữ liệu mới chỉ chứa 10000 mẫu\n",
        "knn_model.fit(combined_matrix_train_10000, train_data['Class Index'].iloc[train_random_indices])\n",
        "\n",
        "# Dự đoán nhãn cho tập kiểm tra\n",
        "y_pred_knn = knn_model.predict(combined_matrix_test)\n",
        "\n",
        "# Đánh giá mô hình trên tập kiểm tra\n",
        "accuracy_knn = accuracy_score(test_data['Class Index'], y_pred_knn)\n",
        "print(\"Accuracy (KNN):\", accuracy_knn)\n"
      ]
    },
    {
      "cell_type": "markdown",
      "metadata": {
        "id": "rO5QnMytd-rP"
      },
      "source": [
        "### 20000 training data"
      ]
    },
    {
      "cell_type": "code",
      "execution_count": null,
      "metadata": {
        "id": "y6FfL1EUd-rQ",
        "outputId": "1465cc8f-3674-4ff4-9186-9ec51b62ea51"
      },
      "outputs": [
        {
          "name": "stdout",
          "output_type": "stream",
          "text": [
            "Accuracy (KNN): 0.7097368421052631\n"
          ]
        }
      ],
      "source": [
        "from sklearn.neighbors import KNeighborsClassifier\n",
        "from sklearn.metrics import accuracy_score\n",
        "import numpy as np\n",
        "\n",
        "# Chọn ngẫu nhiên 20000 chỉ mục từ tập dữ liệu huấn luyện\n",
        "train_random_indices = np.random.choice(combined_matrix_train.shape[0], 20000, replace=False)\n",
        "\n",
        "# Lấy các dòng tương ứng từ ma trận kết hợp huấn luyện\n",
        "combined_matrix_train_20000 = combined_matrix_train[train_random_indices]\n",
        "\n",
        "# Khởi tạo mô hình KNN với số láng giềng k=5 (có thể điều chỉnh)\n",
        "knn_model = KNeighborsClassifier(n_neighbors=5)\n",
        "\n",
        "# Huấn luyện mô hình trên mẫu dữ liệu mới chỉ chứa 20000 mẫu\n",
        "knn_model.fit(combined_matrix_train_20000, train_data['Class Index'].iloc[train_random_indices])\n",
        "\n",
        "# Dự đoán nhãn cho tập kiểm tra\n",
        "y_pred_knn = knn_model.predict(combined_matrix_test)\n",
        "\n",
        "# Đánh giá mô hình trên tập kiểm tra\n",
        "accuracy_knn = accuracy_score(test_data['Class Index'], y_pred_knn)\n",
        "print(\"Accuracy (KNN):\", accuracy_knn)\n"
      ]
    },
    {
      "cell_type": "markdown",
      "metadata": {
        "id": "7iXgB0did-rR"
      },
      "source": [
        "### 50000 training data"
      ]
    },
    {
      "cell_type": "code",
      "execution_count": null,
      "metadata": {
        "id": "eseZOlAId-rS",
        "outputId": "9692559e-abd5-4db8-edb6-5d3f999245c4"
      },
      "outputs": [
        {
          "name": "stdout",
          "output_type": "stream",
          "text": [
            "Accuracy (KNN): 0.7457894736842106\n"
          ]
        }
      ],
      "source": [
        "from sklearn.neighbors import KNeighborsClassifier\n",
        "from sklearn.metrics import accuracy_score\n",
        "import numpy as np\n",
        "\n",
        "# Chọn ngẫu nhiên 50000 chỉ mục từ tập dữ liệu huấn luyện\n",
        "train_random_indices = np.random.choice(combined_matrix_train.shape[0], 50000, replace=False)\n",
        "\n",
        "# Lấy các dòng tương ứng từ ma trận kết hợp huấn luyện\n",
        "combined_matrix_train_50000 = combined_matrix_train[train_random_indices]\n",
        "\n",
        "# Khởi tạo mô hình KNN với số láng giềng k=5 (có thể điều chỉnh)\n",
        "knn_model = KNeighborsClassifier(n_neighbors=5)\n",
        "\n",
        "# Huấn luyện mô hình trên mẫu dữ liệu mới chỉ chứa 50000 mẫu\n",
        "knn_model.fit(combined_matrix_train_50000, train_data['Class Index'].iloc[train_random_indices])\n",
        "\n",
        "# Dự đoán nhãn cho tập kiểm tra\n",
        "y_pred_knn = knn_model.predict(combined_matrix_test)\n",
        "\n",
        "# Đánh giá mô hình trên tập kiểm tra\n",
        "accuracy_knn = accuracy_score(test_data['Class Index'], y_pred_knn)\n",
        "print(\"Accuracy (KNN):\", accuracy_knn)\n"
      ]
    },
    {
      "cell_type": "markdown",
      "metadata": {
        "id": "QlpeN7eRd-rT"
      },
      "source": [
        "### 100000 training data"
      ]
    },
    {
      "cell_type": "code",
      "execution_count": null,
      "metadata": {
        "id": "7C0Zi_txd-rU",
        "outputId": "5d1fd848-df8b-48c5-d8fc-5da0eed0d527"
      },
      "outputs": [
        {
          "name": "stdout",
          "output_type": "stream",
          "text": [
            "Accuracy (KNN): 0.6634210526315789\n"
          ]
        }
      ],
      "source": [
        "from sklearn.neighbors import KNeighborsClassifier\n",
        "from sklearn.metrics import accuracy_score\n",
        "import numpy as np\n",
        "\n",
        "# Chọn ngẫu nhiên 100000 chỉ mục từ tập dữ liệu huấn luyện\n",
        "train_random_indices = np.random.choice(combined_matrix_train.shape[0], 100000, replace=False)\n",
        "\n",
        "# Lấy các dòng tương ứng từ ma trận kết hợp huấn luyện\n",
        "combined_matrix_train_100000 = combined_matrix_train[train_random_indices]\n",
        "\n",
        "# Khởi tạo mô hình KNN với số láng giềng k=5 (có thể điều chỉnh)\n",
        "knn_model = KNeighborsClassifier(n_neighbors=5)\n",
        "\n",
        "# Huấn luyện mô hình trên mẫu dữ liệu mới chỉ chứa 100000 mẫu\n",
        "knn_model.fit(combined_matrix_train_100000, train_data['Class Index'].iloc[train_random_indices])\n",
        "\n",
        "# Dự đoán nhãn cho tập kiểm tra\n",
        "y_pred_knn = knn_model.predict(combined_matrix_test)\n",
        "\n",
        "# Đánh giá mô hình trên tập kiểm tra\n",
        "accuracy_knn = accuracy_score(test_data['Class Index'], y_pred_knn)\n",
        "print(\"Accuracy (KNN):\", accuracy_knn)\n"
      ]
    },
    {
      "cell_type": "markdown",
      "metadata": {
        "id": "dyDzaR8Dd-rW"
      },
      "source": [
        "### 120000 training data"
      ]
    },
    {
      "cell_type": "code",
      "execution_count": null,
      "metadata": {
        "id": "dYf_Innvd-rX",
        "outputId": "37cd760b-8d20-4b96-d1bb-45274e06aa4f"
      },
      "outputs": [
        {
          "name": "stdout",
          "output_type": "stream",
          "text": [
            "Accuracy (KNN): 0.6876315789473684\n"
          ]
        }
      ],
      "source": [
        "from sklearn.neighbors import KNeighborsClassifier\n",
        "from sklearn.metrics import accuracy_score\n",
        "import numpy as np\n",
        "\n",
        "# Chọn ngẫu nhiên 120000 chỉ mục từ tập dữ liệu huấn luyện\n",
        "train_random_indices = np.random.choice(combined_matrix_train.shape[0], 120000, replace=False)\n",
        "\n",
        "# Lấy các dòng tương ứng từ ma trận kết hợp huấn luyện\n",
        "combined_matrix_train_120000 = combined_matrix_train[train_random_indices]\n",
        "\n",
        "# Khởi tạo mô hình KNN với số láng giềng k=5 (có thể điều chỉnh)\n",
        "knn_model = KNeighborsClassifier(n_neighbors=5)\n",
        "\n",
        "# Huấn luyện mô hình trên mẫu dữ liệu mới chỉ chứa 120000 mẫu\n",
        "knn_model.fit(combined_matrix_train_120000, train_data['Class Index'].iloc[train_random_indices])\n",
        "\n",
        "# Dự đoán nhãn cho tập kiểm tra\n",
        "y_pred_knn = knn_model.predict(combined_matrix_test)\n",
        "\n",
        "# Đánh giá mô hình trên tập kiểm tra\n",
        "accuracy_knn = accuracy_score(test_data['Class Index'], y_pred_knn)\n",
        "print(\"Accuracy (KNN):\", accuracy_knn)\n"
      ]
    },
    {
      "cell_type": "markdown",
      "metadata": {
        "id": "5lJoqxird-rZ"
      },
      "source": [
        "## Logistic Regression"
      ]
    },
    {
      "cell_type": "markdown",
      "metadata": {
        "id": "3E82jFjHd-ra"
      },
      "source": [
        "### 5000 training data"
      ]
    },
    {
      "cell_type": "code",
      "execution_count": null,
      "metadata": {
        "id": "aUwJeC7jd-rb",
        "outputId": "3cf61261-0787-425b-b652-f42d2f4c6785"
      },
      "outputs": [
        {
          "name": "stdout",
          "output_type": "stream",
          "text": [
            "Accuracy (Combined TF-IDF + BoW): 0.8611842105263158\n"
          ]
        }
      ],
      "source": [
        "from sklearn.linear_model import LogisticRegression\n",
        "from sklearn.metrics import accuracy_score\n",
        "\n",
        "# Chọn ngẫu nhiên 5000 chỉ mục từ cả ma trận kết hợp huấn luyện và kiểm tra\n",
        "train_random_indices = np.random.choice(combined_matrix_train.shape[0], 5000, replace=False)\n",
        "\n",
        "# Lấy các dòng tương ứng từ ma trận kết hợp\n",
        "combined_matrix_train_5000 = combined_matrix_train[train_random_indices]\n",
        "\n",
        "# Khởi tạo mô hình Logistic Regression\n",
        "logistic_model = LogisticRegression(max_iter=500)\n",
        "\n",
        "# Huấn luyện mô hình trên ma trận dữ liệu mới chỉ chứa 5000 mẫu\n",
        "logistic_model.fit(combined_matrix_train_5000, train_data['Class Index'].iloc[train_random_indices])\n",
        "\n",
        "# Dự đoán nhãn cho tập kiểm tra\n",
        "y_pred = logistic_model.predict(combined_matrix_test)\n",
        "\n",
        "# Đánh giá mô hình trên tập kiểm tra\n",
        "accuracy = accuracy_score(test_data['Class Index'], y_pred)\n",
        "print(\"Accuracy (Combined TF-IDF + BoW):\", accuracy)"
      ]
    },
    {
      "cell_type": "markdown",
      "metadata": {
        "id": "xmPhNREad-re"
      },
      "source": [
        "### 10000 training data"
      ]
    },
    {
      "cell_type": "code",
      "execution_count": null,
      "metadata": {
        "id": "xrNOffuPd-re",
        "outputId": "80b17447-9acf-4b69-ef20-aabe96ebfc95"
      },
      "outputs": [
        {
          "name": "stdout",
          "output_type": "stream",
          "text": [
            "Accuracy (Combined TF-IDF + BoW): 0.87\n"
          ]
        }
      ],
      "source": [
        "from sklearn.linear_model import LogisticRegression\n",
        "from sklearn.metrics import accuracy_score\n",
        "\n",
        "# Chọn ngẫu nhiên 10000 chỉ mục từ cả ma trận kết hợp huấn luyện và kiểm tra\n",
        "train_random_indices = np.random.choice(combined_matrix_train.shape[0], 10000, replace=False)\n",
        "\n",
        "# Lấy các dòng tương ứng từ ma trận kết hợp\n",
        "combined_matrix_train_10000 = combined_matrix_train[train_random_indices]\n",
        "\n",
        "# Khởi tạo mô hình Logistic Regression\n",
        "logistic_model = LogisticRegression(max_iter=500)\n",
        "\n",
        "# Huấn luyện mô hình trên ma trận dữ liệu mới chỉ chứa 10000 mẫu\n",
        "logistic_model.fit(combined_matrix_train_10000, train_data['Class Index'].iloc[train_random_indices])\n",
        "\n",
        "# Dự đoán nhãn cho tập kiểm tra\n",
        "y_pred = logistic_model.predict(combined_matrix_test)\n",
        "\n",
        "# Đánh giá mô hình trên tập kiểm tra\n",
        "accuracy = accuracy_score(test_data['Class Index'], y_pred)\n",
        "print(\"Accuracy (Combined TF-IDF + BoW):\", accuracy)"
      ]
    },
    {
      "cell_type": "markdown",
      "metadata": {
        "id": "LN6UuMEmd-rf"
      },
      "source": [
        "### 20000 training data"
      ]
    },
    {
      "cell_type": "code",
      "execution_count": null,
      "metadata": {
        "id": "Ak-rUv2_d-rg",
        "outputId": "a4fbc87d-8ec8-47c9-bcb3-86cff9af772f"
      },
      "outputs": [
        {
          "name": "stdout",
          "output_type": "stream",
          "text": [
            "Accuracy (Combined TF-IDF + BoW): 0.8882894736842105\n"
          ]
        }
      ],
      "source": [
        "from sklearn.linear_model import LogisticRegression\n",
        "from sklearn.metrics import accuracy_score\n",
        "\n",
        "# Chọn ngẫu nhiên 20000 chỉ mục từ cả ma trận kết hợp huấn luyện và kiểm tra\n",
        "train_random_indices = np.random.choice(combined_matrix_train.shape[0], 20000, replace=False)\n",
        "\n",
        "# Lấy các dòng tương ứng từ ma trận kết hợp\n",
        "combined_matrix_train_20000 = combined_matrix_train[train_random_indices]\n",
        "\n",
        "# Khởi tạo mô hình Logistic Regression\n",
        "logistic_model = LogisticRegression(max_iter=500)\n",
        "\n",
        "# Huấn luyện mô hình trên ma trận dữ liệu mới chỉ chứa 20000 mẫu\n",
        "logistic_model.fit(combined_matrix_train_20000, train_data['Class Index'].iloc[train_random_indices])\n",
        "\n",
        "# Dự đoán nhãn cho tập kiểm tra\n",
        "y_pred = logistic_model.predict(combined_matrix_test)\n",
        "\n",
        "# Đánh giá mô hình trên tập kiểm tra\n",
        "accuracy = accuracy_score(test_data['Class Index'], y_pred)\n",
        "print(\"Accuracy (Combined TF-IDF + BoW):\", accuracy)"
      ]
    },
    {
      "cell_type": "markdown",
      "metadata": {
        "id": "8oq8YAjld-rj"
      },
      "source": [
        "### 50000 training data"
      ]
    },
    {
      "cell_type": "code",
      "execution_count": null,
      "metadata": {
        "id": "XdPX_krCd-rk",
        "outputId": "e6c0c5c7-8e47-4e27-fce8-3ad449da1dd6"
      },
      "outputs": [
        {
          "name": "stdout",
          "output_type": "stream",
          "text": [
            "Accuracy (Combined TF-IDF + BoW): 0.8961842105263158\n"
          ]
        }
      ],
      "source": [
        "from sklearn.linear_model import LogisticRegression\n",
        "from sklearn.metrics import accuracy_score\n",
        "\n",
        "# Chọn ngẫu nhiên 50000 chỉ mục từ cả ma trận kết hợp huấn luyện và kiểm tra\n",
        "train_random_indices = np.random.choice(combined_matrix_train.shape[0], 50000, replace=False)\n",
        "\n",
        "# Lấy các dòng tương ứng từ ma trận kết hợp\n",
        "combined_matrix_train_50000 = combined_matrix_train[train_random_indices]\n",
        "\n",
        "# Khởi tạo mô hình Logistic Regression\n",
        "logistic_model = LogisticRegression(max_iter=500)\n",
        "\n",
        "# Huấn luyện mô hình trên ma trận dữ liệu mới chỉ chứa 50000 mẫu\n",
        "logistic_model.fit(combined_matrix_train_50000, train_data['Class Index'].iloc[train_random_indices])\n",
        "\n",
        "# Dự đoán nhãn cho tập kiểm tra\n",
        "y_pred = logistic_model.predict(combined_matrix_test)\n",
        "\n",
        "# Đánh giá mô hình trên tập kiểm tra\n",
        "accuracy = accuracy_score(test_data['Class Index'], y_pred)\n",
        "print(\"Accuracy (Combined TF-IDF + BoW):\", accuracy)"
      ]
    },
    {
      "cell_type": "markdown",
      "metadata": {
        "id": "Ff4nD20Td-rm"
      },
      "source": [
        "### 100000 training data"
      ]
    },
    {
      "cell_type": "code",
      "execution_count": null,
      "metadata": {
        "id": "5BhVPCy_d-rn",
        "outputId": "9e5b8e81-3512-40cd-a98c-8ffb1596c5eb"
      },
      "outputs": [
        {
          "name": "stdout",
          "output_type": "stream",
          "text": [
            "Accuracy (Combined TF-IDF + BoW): 0.9014473684210527\n"
          ]
        }
      ],
      "source": [
        "from sklearn.linear_model import LogisticRegression\n",
        "from sklearn.metrics import accuracy_score\n",
        "\n",
        "# Chọn ngẫu nhiên 100000 chỉ mục từ cả ma trận kết hợp huấn luyện và kiểm tra\n",
        "train_random_indices = np.random.choice(combined_matrix_train.shape[0], 100000, replace=False)\n",
        "\n",
        "# Lấy các dòng tương ứng từ ma trận kết hợp\n",
        "combined_matrix_train_100000 = combined_matrix_train[train_random_indices]\n",
        "\n",
        "# Khởi tạo mô hình Logistic Regression\n",
        "logistic_model = LogisticRegression(max_iter=500)\n",
        "\n",
        "# Huấn luyện mô hình trên ma trận dữ liệu mới chỉ chứa 100000 mẫu\n",
        "logistic_model.fit(combined_matrix_train_100000, train_data['Class Index'].iloc[train_random_indices])\n",
        "\n",
        "# Dự đoán nhãn cho tập kiểm tra\n",
        "y_pred = logistic_model.predict(combined_matrix_test)\n",
        "\n",
        "# Đánh giá mô hình trên tập kiểm tra\n",
        "accuracy = accuracy_score(test_data['Class Index'], y_pred)\n",
        "print(\"Accuracy (Combined TF-IDF + BoW):\", accuracy)"
      ]
    },
    {
      "cell_type": "markdown",
      "metadata": {
        "id": "GLn2hdU1d-rp"
      },
      "source": [
        "### 120000 training data"
      ]
    },
    {
      "cell_type": "code",
      "execution_count": null,
      "metadata": {
        "id": "k1lVyObPd-rq",
        "outputId": "b57a30c1-7ae7-483d-9c05-d4a090ec0f92"
      },
      "outputs": [
        {
          "name": "stdout",
          "output_type": "stream",
          "text": [
            "Accuracy (Combined TF-IDF + BoW): 0.9064473684210527\n"
          ]
        }
      ],
      "source": [
        "from sklearn.linear_model import LogisticRegression\n",
        "from sklearn.metrics import accuracy_score\n",
        "\n",
        "# Chọn ngẫu nhiên 120000 chỉ mục từ cả ma trận kết hợp huấn luyện và kiểm tra\n",
        "train_random_indices = np.random.choice(combined_matrix_train.shape[0], 120000, replace=False)\n",
        "\n",
        "# Lấy các dòng tương ứng từ ma trận kết hợp\n",
        "combined_matrix_train_120000 = combined_matrix_train[train_random_indices]\n",
        "\n",
        "# Khởi tạo mô hình Logistic Regression\n",
        "logistic_model = LogisticRegression(max_iter=500)\n",
        "\n",
        "# Huấn luyện mô hình trên ma trận dữ liệu mới chỉ chứa 120000 mẫu\n",
        "logistic_model.fit(combined_matrix_train_120000, train_data['Class Index'].iloc[train_random_indices])\n",
        "\n",
        "# Dự đoán nhãn cho tập kiểm tra\n",
        "y_pred = logistic_model.predict(combined_matrix_test)\n",
        "\n",
        "# Đánh giá mô hình trên tập kiểm tra\n",
        "accuracy = accuracy_score(test_data['Class Index'], y_pred)\n",
        "print(\"Accuracy (Combined TF-IDF + BoW):\", accuracy)"
      ]
    },
    {
      "cell_type": "markdown",
      "metadata": {
        "id": "3TTCDiEtd-rs"
      },
      "source": [
        "## Naive bayes"
      ]
    },
    {
      "cell_type": "markdown",
      "metadata": {
        "id": "ANPXk1-Dd-ru"
      },
      "source": [
        "### 5000 training data"
      ]
    },
    {
      "cell_type": "code",
      "execution_count": null,
      "metadata": {
        "id": "8r0r58Had-rv",
        "outputId": "75e8aff2-cdd8-4ccd-8e6d-daf8aea9a229"
      },
      "outputs": [
        {
          "name": "stdout",
          "output_type": "stream",
          "text": [
            "Accuracy (Combined TF-IDF + BoW): 0.8786842105263157\n"
          ]
        }
      ],
      "source": [
        "from sklearn.naive_bayes import MultinomialNB\n",
        "from sklearn.metrics import accuracy_score\n",
        "import numpy as np\n",
        "\n",
        "# Chọn ngẫu nhiên 5000 chỉ mục từ tập dữ liệu huấn luyện\n",
        "train_random_indices = np.random.choice(combined_matrix_train.shape[0], 5000, replace=False)\n",
        "\n",
        "# Lấy các dòng tương ứng từ ma trận kết hợp huấn luyện\n",
        "combined_matrix_train_5000 = combined_matrix_train[train_random_indices]\n",
        "\n",
        "# Khởi tạo mô hình Naive Bayes\n",
        "nb_model = MultinomialNB()\n",
        "\n",
        "# Huấn luyện mô hình trên ma trận dữ liệu mới chỉ chứa 5000 mẫu\n",
        "nb_model.fit(combined_matrix_train_5000, train_data['Class Index'].iloc[train_random_indices])\n",
        "\n",
        "# Dự đoán nhãn cho tập kiểm tra\n",
        "y_pred = nb_model.predict(combined_matrix_test)\n",
        "\n",
        "# Đánh giá mô hình trên tập kiểm tra\n",
        "accuracy = accuracy_score(test_data['Class Index'], y_pred)\n",
        "print(\"Accuracy (Combined TF-IDF + BoW):\", accuracy)\n"
      ]
    },
    {
      "cell_type": "markdown",
      "metadata": {
        "id": "7GTsU6FCd-rx"
      },
      "source": [
        "### 10000 training data"
      ]
    },
    {
      "cell_type": "code",
      "execution_count": null,
      "metadata": {
        "id": "PBK729OWd-rz",
        "outputId": "33d96d9f-24c5-4903-aed8-e86057d20db7"
      },
      "outputs": [
        {
          "name": "stdout",
          "output_type": "stream",
          "text": [
            "Accuracy (Combined TF-IDF + BoW): 0.8877631578947368\n"
          ]
        }
      ],
      "source": [
        "from sklearn.naive_bayes import MultinomialNB\n",
        "from sklearn.metrics import accuracy_score\n",
        "import numpy as np\n",
        "\n",
        "# Chọn ngẫu nhiên 10000 chỉ mục từ tập dữ liệu huấn luyện\n",
        "train_random_indices = np.random.choice(combined_matrix_train.shape[0], 10000, replace=False)\n",
        "\n",
        "# Lấy các dòng tương ứng từ ma trận kết hợp huấn luyện\n",
        "combined_matrix_train_10000 = combined_matrix_train[train_random_indices]\n",
        "\n",
        "# Khởi tạo mô hình Naive Bayes\n",
        "nb_model = MultinomialNB()\n",
        "\n",
        "# Huấn luyện mô hình trên ma trận dữ liệu mới chỉ chứa 10000 mẫu\n",
        "nb_model.fit(combined_matrix_train_10000, train_data['Class Index'].iloc[train_random_indices])\n",
        "\n",
        "# Dự đoán nhãn cho tập kiểm tra\n",
        "y_pred = nb_model.predict(combined_matrix_test)\n",
        "\n",
        "# Đánh giá mô hình trên tập kiểm tra\n",
        "accuracy = accuracy_score(test_data['Class Index'], y_pred)\n",
        "print(\"Accuracy (Combined TF-IDF + BoW):\", accuracy)\n"
      ]
    },
    {
      "cell_type": "markdown",
      "metadata": {
        "id": "Rt05uYh5d-r4"
      },
      "source": [
        "### 20000 training data"
      ]
    },
    {
      "cell_type": "code",
      "execution_count": null,
      "metadata": {
        "id": "HQ4oZA7Qd-r6",
        "outputId": "b3404abc-04e6-4c32-e8f6-c55385f59b27"
      },
      "outputs": [
        {
          "name": "stdout",
          "output_type": "stream",
          "text": [
            "Accuracy (Combined TF-IDF + BoW): 0.8961842105263158\n"
          ]
        }
      ],
      "source": [
        "from sklearn.naive_bayes import MultinomialNB\n",
        "from sklearn.metrics import accuracy_score\n",
        "import numpy as np\n",
        "\n",
        "# Chọn ngẫu nhiên 20000 chỉ mục từ tập dữ liệu huấn luyện\n",
        "train_random_indices = np.random.choice(combined_matrix_train.shape[0], 20000, replace=False)\n",
        "\n",
        "# Lấy các dòng tương ứng từ ma trận kết hợp huấn luyện\n",
        "combined_matrix_train_20000 = combined_matrix_train[train_random_indices]\n",
        "\n",
        "# Khởi tạo mô hình Naive Bayes\n",
        "nb_model = MultinomialNB()\n",
        "\n",
        "# Huấn luyện mô hình trên ma trận dữ liệu mới chỉ chứa 20000 mẫu\n",
        "nb_model.fit(combined_matrix_train_20000, train_data['Class Index'].iloc[train_random_indices])\n",
        "\n",
        "# Dự đoán nhãn cho tập kiểm tra\n",
        "y_pred = nb_model.predict(combined_matrix_test)\n",
        "\n",
        "# Đánh giá mô hình trên tập kiểm tra\n",
        "accuracy = accuracy_score(test_data['Class Index'], y_pred)\n",
        "print(\"Accuracy (Combined TF-IDF + BoW):\", accuracy)\n"
      ]
    },
    {
      "cell_type": "markdown",
      "metadata": {
        "id": "HIronsiNd-sC"
      },
      "source": [
        "### 50000 training data"
      ]
    },
    {
      "cell_type": "code",
      "execution_count": null,
      "metadata": {
        "id": "LSRy-2ePd-sD",
        "outputId": "ca50655f-dd55-4b01-efa4-626e30a84735"
      },
      "outputs": [
        {
          "name": "stdout",
          "output_type": "stream",
          "text": [
            "Accuracy (Combined TF-IDF + BoW): 0.8990789473684211\n"
          ]
        }
      ],
      "source": [
        "from sklearn.naive_bayes import MultinomialNB\n",
        "from sklearn.metrics import accuracy_score\n",
        "import numpy as np\n",
        "\n",
        "# Chọn ngẫu nhiên 50000 chỉ mục từ tập dữ liệu huấn luyện\n",
        "train_random_indices = np.random.choice(combined_matrix_train.shape[0], 50000, replace=False)\n",
        "\n",
        "# Lấy các dòng tương ứng từ ma trận kết hợp huấn luyện\n",
        "combined_matrix_train_50000 = combined_matrix_train[train_random_indices]\n",
        "\n",
        "# Khởi tạo mô hình Naive Bayes\n",
        "nb_model = MultinomialNB()\n",
        "\n",
        "# Huấn luyện mô hình trên ma trận dữ liệu mới chỉ chứa 50000 mẫu\n",
        "nb_model.fit(combined_matrix_train_50000, train_data['Class Index'].iloc[train_random_indices])\n",
        "\n",
        "# Dự đoán nhãn cho tập kiểm tra\n",
        "y_pred = nb_model.predict(combined_matrix_test)\n",
        "\n",
        "# Đánh giá mô hình trên tập kiểm tra\n",
        "accuracy = accuracy_score(test_data['Class Index'], y_pred)\n",
        "print(\"Accuracy (Combined TF-IDF + BoW):\", accuracy)\n"
      ]
    },
    {
      "cell_type": "markdown",
      "metadata": {
        "id": "JSqCg0Gad-sH"
      },
      "source": [
        "### 100000 training data"
      ]
    },
    {
      "cell_type": "code",
      "execution_count": null,
      "metadata": {
        "id": "ukOZpkDxd-sH",
        "outputId": "6d62d2d3-ac4b-43ed-c299-0dc4d4543bdc"
      },
      "outputs": [
        {
          "name": "stdout",
          "output_type": "stream",
          "text": [
            "Accuracy (Combined TF-IDF + BoW): 0.9013157894736842\n"
          ]
        }
      ],
      "source": [
        "from sklearn.naive_bayes import MultinomialNB\n",
        "from sklearn.metrics import accuracy_score\n",
        "import numpy as np\n",
        "\n",
        "# Chọn ngẫu nhiên 100000 chỉ mục từ tập dữ liệu huấn luyện\n",
        "train_random_indices = np.random.choice(combined_matrix_train.shape[0], 100000, replace=False)\n",
        "\n",
        "# Lấy các dòng tương ứng từ ma trận kết hợp huấn luyện\n",
        "combined_matrix_train_100000 = combined_matrix_train[train_random_indices]\n",
        "\n",
        "# Khởi tạo mô hình Naive Bayes\n",
        "nb_model = MultinomialNB()\n",
        "\n",
        "# Huấn luyện mô hình trên ma trận dữ liệu mới chỉ chứa 100000 mẫu\n",
        "nb_model.fit(combined_matrix_train_100000, train_data['Class Index'].iloc[train_random_indices])\n",
        "\n",
        "# Dự đoán nhãn cho tập kiểm tra\n",
        "y_pred = nb_model.predict(combined_matrix_test)\n",
        "\n",
        "# Đánh giá mô hình trên tập kiểm tra\n",
        "accuracy = accuracy_score(test_data['Class Index'], y_pred)\n",
        "print(\"Accuracy (Combined TF-IDF + BoW):\", accuracy)\n"
      ]
    },
    {
      "cell_type": "markdown",
      "metadata": {
        "id": "vJGQaQbNd-sI"
      },
      "source": [
        "### 120000 training data"
      ]
    },
    {
      "cell_type": "code",
      "execution_count": null,
      "metadata": {
        "id": "SJhthEROd-sJ",
        "outputId": "12a66c8b-ec87-4912-a5ff-1f18a9fe858d"
      },
      "outputs": [
        {
          "name": "stdout",
          "output_type": "stream",
          "text": [
            "Accuracy (Combined TF-IDF + BoW): 0.901578947368421\n"
          ]
        }
      ],
      "source": [
        "from sklearn.naive_bayes import MultinomialNB\n",
        "from sklearn.metrics import accuracy_score\n",
        "import numpy as np\n",
        "\n",
        "# Chọn ngẫu nhiên 120000 chỉ mục từ tập dữ liệu huấn luyện\n",
        "train_random_indices = np.random.choice(combined_matrix_train.shape[0], 120000, replace=False)\n",
        "\n",
        "# Lấy các dòng tương ứng từ ma trận kết hợp huấn luyện\n",
        "combined_matrix_train_120000 = combined_matrix_train[train_random_indices]\n",
        "\n",
        "# Khởi tạo mô hình Naive Bayes\n",
        "nb_model = MultinomialNB()\n",
        "\n",
        "# Huấn luyện mô hình trên ma trận dữ liệu mới chỉ chứa 120000 mẫu\n",
        "nb_model.fit(combined_matrix_train_120000, train_data['Class Index'].iloc[train_random_indices])\n",
        "\n",
        "# Dự đoán nhãn cho tập kiểm tra\n",
        "y_pred = nb_model.predict(combined_matrix_test)\n",
        "\n",
        "# Đánh giá mô hình trên tập kiểm tra\n",
        "accuracy = accuracy_score(test_data['Class Index'], y_pred)\n",
        "print(\"Accuracy (Combined TF-IDF + BoW):\", accuracy)\n"
      ]
    },
    {
      "cell_type": "markdown",
      "metadata": {
        "id": "bl2WsX9Gd-sK"
      },
      "source": [
        "## Random Forest"
      ]
    },
    {
      "cell_type": "markdown",
      "metadata": {
        "id": "WP9fvYTyd-sK"
      },
      "source": [
        "- Do tài nguyên hạn chế nên đã tối ưu tham số để giảm thời gian chạy:\n",
        "    - n_estimators=50,          Số lượng cây nhỏ hơn\n",
        "    - max_depth=10,             Giới hạn độ sâu của cây"
      ]
    },
    {
      "cell_type": "markdown",
      "metadata": {
        "id": "3lvCWnoNd-sL"
      },
      "source": [
        "### 5000 training data"
      ]
    },
    {
      "cell_type": "code",
      "execution_count": null,
      "metadata": {
        "id": "vli8hsGJd-sM",
        "outputId": "915f4e5d-bd7c-4083-a5af-4b617b20c9e0"
      },
      "outputs": [
        {
          "name": "stdout",
          "output_type": "stream",
          "text": [
            "Accuracy (Random Forest): 0.7684210526315789\n"
          ]
        }
      ],
      "source": [
        "import numpy as np\n",
        "from sklearn.ensemble import RandomForestClassifier\n",
        "from sklearn.metrics import accuracy_score\n",
        "\n",
        "# Chọn ngẫu nhiên 5000 chỉ mục từ ma trận kết hợp huấn luyện\n",
        "train_random_indices = np.random.choice(combined_matrix_train.shape[0], 5000, replace=False)\n",
        "\n",
        "# Lấy các dòng tương ứng từ ma trận kết hợp huấn luyện\n",
        "combined_matrix_train_5000 = combined_matrix_train[train_random_indices]\n",
        "\n",
        "# Khởi tạo mô hình Random Forest với các tham số tối ưu\n",
        "rf_model = RandomForestClassifier(\n",
        "    n_estimators=50,          # Số lượng cây nhỏ hơn\n",
        "    max_depth=10,             # Giới hạn độ sâu của cây\n",
        "    max_features='sqrt',      # Số lượng đặc trưng xem xét khi chia nhánh\n",
        "    random_state=42,\n",
        "    n_jobs=-1                 # Sử dụng tất cả các CPU cores có sẵn\n",
        ")\n",
        "\n",
        "# Huấn luyện mô hình trên ma trận dữ liệu mới chỉ chứa 5000 mẫu\n",
        "rf_model.fit(combined_matrix_train_5000, train_data['Class Index'].iloc[train_random_indices])\n",
        "\n",
        "# Dự đoán nhãn cho tập kiểm tra\n",
        "y_pred_rf = rf_model.predict(combined_matrix_test)\n",
        "\n",
        "# Đánh giá mô hình trên tập kiểm tra\n",
        "accuracy_rf = accuracy_score(test_data['Class Index'], y_pred_rf)\n",
        "print(\"Accuracy (Random Forest):\", accuracy_rf)\n"
      ]
    },
    {
      "cell_type": "markdown",
      "metadata": {
        "id": "Hb7VKLmtd-sP"
      },
      "source": [
        "### 10000 training data"
      ]
    },
    {
      "cell_type": "code",
      "execution_count": null,
      "metadata": {
        "id": "tI7fPHfXd-sP",
        "outputId": "5fb747a0-442c-4e78-8a61-f18d9b8861b2"
      },
      "outputs": [
        {
          "name": "stdout",
          "output_type": "stream",
          "text": [
            "Accuracy (Random Forest): 0.7885526315789474\n"
          ]
        }
      ],
      "source": [
        "import numpy as np\n",
        "from sklearn.ensemble import RandomForestClassifier\n",
        "from sklearn.metrics import accuracy_score\n",
        "\n",
        "# Chọn ngẫu nhiên 10000 chỉ mục từ ma trận kết hợp huấn luyện\n",
        "train_random_indices = np.random.choice(combined_matrix_train.shape[0], 10000, replace=False)\n",
        "\n",
        "# Lấy các dòng tương ứng từ ma trận kết hợp huấn luyện\n",
        "combined_matrix_train_10000 = combined_matrix_train[train_random_indices]\n",
        "\n",
        "# Khởi tạo mô hình Random Forest với các tham số tối ưu\n",
        "rf_model = RandomForestClassifier(\n",
        "    n_estimators=50,          # Số lượng cây nhỏ hơn\n",
        "    max_depth=10,             # Giới hạn độ sâu của cây\n",
        "    max_features='sqrt',      # Số lượng đặc trưng xem xét khi chia nhánh\n",
        "    random_state=42,\n",
        "    n_jobs=-1                 # Sử dụng tất cả các CPU cores có sẵn\n",
        ")\n",
        "\n",
        "# Huấn luyện mô hình trên ma trận dữ liệu mới chỉ chứa 10000 mẫu\n",
        "rf_model.fit(combined_matrix_train_10000, train_data['Class Index'].iloc[train_random_indices])\n",
        "\n",
        "# Dự đoán nhãn cho tập kiểm tra\n",
        "y_pred_rf = rf_model.predict(combined_matrix_test)\n",
        "\n",
        "# Đánh giá mô hình trên tập kiểm tra\n",
        "accuracy_rf = accuracy_score(test_data['Class Index'], y_pred_rf)\n",
        "print(\"Accuracy (Random Forest):\", accuracy_rf)\n"
      ]
    },
    {
      "cell_type": "markdown",
      "metadata": {
        "id": "dCIDczEed-sR"
      },
      "source": [
        "### 20000 training data"
      ]
    },
    {
      "cell_type": "code",
      "execution_count": null,
      "metadata": {
        "id": "QbFoa-6wd-sR",
        "outputId": "5c384733-e2da-4990-be84-2a16e5eaa79e"
      },
      "outputs": [
        {
          "name": "stdout",
          "output_type": "stream",
          "text": [
            "Accuracy (Random Forest): 0.7898684210526316\n"
          ]
        }
      ],
      "source": [
        "import numpy as np\n",
        "from sklearn.ensemble import RandomForestClassifier\n",
        "from sklearn.metrics import accuracy_score\n",
        "\n",
        "# Chọn ngẫu nhiên 20000 chỉ mục từ ma trận kết hợp huấn luyện\n",
        "train_random_indices = np.random.choice(combined_matrix_train.shape[0], 20000, replace=False)\n",
        "\n",
        "# Lấy các dòng tương ứng từ ma trận kết hợp huấn luyện\n",
        "combined_matrix_train_20000 = combined_matrix_train[train_random_indices]\n",
        "\n",
        "# Khởi tạo mô hình Random Forest với các tham số tối ưu\n",
        "rf_model = RandomForestClassifier(\n",
        "    n_estimators=50,          # Số lượng cây nhỏ hơn\n",
        "    max_depth=10,             # Giới hạn độ sâu của cây\n",
        "    max_features='sqrt',      # Số lượng đặc trưng xem xét khi chia nhánh\n",
        "    random_state=42,\n",
        "    n_jobs=-1                 # Sử dụng tất cả các CPU cores có sẵn\n",
        ")\n",
        "\n",
        "# Huấn luyện mô hình trên ma trận dữ liệu mới chỉ chứa 20000 mẫu\n",
        "rf_model.fit(combined_matrix_train_20000, train_data['Class Index'].iloc[train_random_indices])\n",
        "\n",
        "# Dự đoán nhãn cho tập kiểm tra\n",
        "y_pred_rf = rf_model.predict(combined_matrix_test)\n",
        "\n",
        "# Đánh giá mô hình trên tập kiểm tra\n",
        "accuracy_rf = accuracy_score(test_data['Class Index'], y_pred_rf)\n",
        "print(\"Accuracy (Random Forest):\", accuracy_rf)\n"
      ]
    },
    {
      "cell_type": "markdown",
      "metadata": {
        "id": "YFa1_9WLd-sR"
      },
      "source": [
        "### 50000 training data"
      ]
    },
    {
      "cell_type": "code",
      "execution_count": null,
      "metadata": {
        "id": "rGG7IAb_d-sS",
        "outputId": "778ec532-631e-4025-bce4-43acf2d203f5"
      },
      "outputs": [
        {
          "name": "stdout",
          "output_type": "stream",
          "text": [
            "Accuracy (Random Forest): 0.796578947368421\n"
          ]
        }
      ],
      "source": [
        "import numpy as np\n",
        "from sklearn.ensemble import RandomForestClassifier\n",
        "from sklearn.metrics import accuracy_score\n",
        "\n",
        "# Chọn ngẫu nhiên 50000 chỉ mục từ ma trận kết hợp huấn luyện\n",
        "train_random_indices = np.random.choice(combined_matrix_train.shape[0], 50000, replace=False)\n",
        "\n",
        "# Lấy các dòng tương ứng từ ma trận kết hợp huấn luyện\n",
        "combined_matrix_train_50000 = combined_matrix_train[train_random_indices]\n",
        "\n",
        "# Khởi tạo mô hình Random Forest với các tham số tối ưu\n",
        "rf_model = RandomForestClassifier(\n",
        "    n_estimators=50,          # Số lượng cây nhỏ hơn\n",
        "    max_depth=10,             # Giới hạn độ sâu của cây\n",
        "    max_features='sqrt',      # Số lượng đặc trưng xem xét khi chia nhánh\n",
        "    random_state=42,\n",
        "    n_jobs=-1                 # Sử dụng tất cả các CPU cores có sẵn\n",
        ")\n",
        "\n",
        "# Huấn luyện mô hình trên ma trận dữ liệu mới chỉ chứa 50000 mẫu\n",
        "rf_model.fit(combined_matrix_train_50000, train_data['Class Index'].iloc[train_random_indices])\n",
        "\n",
        "# Dự đoán nhãn cho tập kiểm tra\n",
        "y_pred_rf = rf_model.predict(combined_matrix_test)\n",
        "\n",
        "# Đánh giá mô hình trên tập kiểm tra\n",
        "accuracy_rf = accuracy_score(test_data['Class Index'], y_pred_rf)\n",
        "print(\"Accuracy (Random Forest):\", accuracy_rf)\n"
      ]
    },
    {
      "cell_type": "markdown",
      "metadata": {
        "id": "NGiq-oLSd-sT"
      },
      "source": [
        "### 100000 training data"
      ]
    },
    {
      "cell_type": "code",
      "execution_count": null,
      "metadata": {
        "id": "SsWT_xbod-sU",
        "outputId": "22b4bb93-93da-4f33-a8a1-545013dd7a3e"
      },
      "outputs": [
        {
          "name": "stdout",
          "output_type": "stream",
          "text": [
            "Accuracy (Random Forest): 0.7988157894736843\n"
          ]
        }
      ],
      "source": [
        "import numpy as np\n",
        "from sklearn.ensemble import RandomForestClassifier\n",
        "from sklearn.metrics import accuracy_score\n",
        "\n",
        "# Chọn ngẫu nhiên 100000 chỉ mục từ ma trận kết hợp huấn luyện\n",
        "train_random_indices = np.random.choice(combined_matrix_train.shape[0], 100000, replace=False)\n",
        "\n",
        "# Lấy các dòng tương ứng từ ma trận kết hợp huấn luyện\n",
        "combined_matrix_train_100000 = combined_matrix_train[train_random_indices]\n",
        "\n",
        "# Khởi tạo mô hình Random Forest với các tham số tối ưu\n",
        "rf_model = RandomForestClassifier(\n",
        "    n_estimators=50,          # Số lượng cây nhỏ hơn\n",
        "    max_depth=10,             # Giới hạn độ sâu của cây\n",
        "    max_features='sqrt',      # Số lượng đặc trưng xem xét khi chia nhánh\n",
        "    random_state=42,\n",
        "    n_jobs=-1                 # Sử dụng tất cả các CPU cores có sẵn\n",
        ")\n",
        "\n",
        "# Huấn luyện mô hình trên ma trận dữ liệu mới chỉ chứa 100000 mẫu\n",
        "rf_model.fit(combined_matrix_train_100000, train_data['Class Index'].iloc[train_random_indices])\n",
        "\n",
        "# Dự đoán nhãn cho tập kiểm tra\n",
        "y_pred_rf = rf_model.predict(combined_matrix_test)\n",
        "\n",
        "# Đánh giá mô hình trên tập kiểm tra\n",
        "accuracy_rf = accuracy_score(test_data['Class Index'], y_pred_rf)\n",
        "print(\"Accuracy (Random Forest):\", accuracy_rf)\n"
      ]
    },
    {
      "cell_type": "markdown",
      "metadata": {
        "id": "n7fsRtZ6d-sV"
      },
      "source": [
        "### 120000 training data"
      ]
    },
    {
      "cell_type": "code",
      "execution_count": null,
      "metadata": {
        "id": "hITxLnAid-sW",
        "outputId": "a0aa32eb-b3fa-4b58-ed60-21ed13fc2022"
      },
      "outputs": [
        {
          "name": "stdout",
          "output_type": "stream",
          "text": [
            "Accuracy (Random Forest): 0.8110526315789474\n"
          ]
        }
      ],
      "source": [
        "import numpy as np\n",
        "from sklearn.ensemble import RandomForestClassifier\n",
        "from sklearn.metrics import accuracy_score\n",
        "\n",
        "# Chọn ngẫu nhiên 120000 chỉ mục từ ma trận kết hợp huấn luyện\n",
        "train_random_indices = np.random.choice(combined_matrix_train.shape[0], 120000, replace=False)\n",
        "\n",
        "# Lấy các dòng tương ứng từ ma trận kết hợp huấn luyện\n",
        "combined_matrix_train_120000 = combined_matrix_train[train_random_indices]\n",
        "\n",
        "# Khởi tạo mô hình Random Forest với các tham số tối ưu\n",
        "rf_model = RandomForestClassifier(\n",
        "    n_estimators=50,          # Số lượng cây nhỏ hơn\n",
        "    max_depth=10,             # Giới hạn độ sâu của cây\n",
        "    max_features='sqrt',      # Số lượng đặc trưng xem xét khi chia nhánh\n",
        "    random_state=42,\n",
        "    n_jobs=-1                 # Sử dụng tất cả các CPU cores có sẵn\n",
        ")\n",
        "\n",
        "# Huấn luyện mô hình trên ma trận dữ liệu mới chỉ chứa 120000 mẫu\n",
        "rf_model.fit(combined_matrix_train_120000, train_data['Class Index'].iloc[train_random_indices])\n",
        "\n",
        "# Dự đoán nhãn cho tập kiểm tra\n",
        "y_pred_rf = rf_model.predict(combined_matrix_test)\n",
        "\n",
        "# Đánh giá mô hình trên tập kiểm tra\n",
        "accuracy_rf = accuracy_score(test_data['Class Index'], y_pred_rf)\n",
        "print(\"Accuracy (Random Forest):\", accuracy_rf)\n"
      ]
    },
    {
      "cell_type": "markdown",
      "metadata": {
        "id": "dawt6BeSd-sX"
      },
      "source": [
        "## Quadratic Discriminant Analysis (QDA)"
      ]
    },
    {
      "cell_type": "markdown",
      "metadata": {
        "id": "9Q6aUdoId-sY"
      },
      "source": [
        "### 5000 training data"
      ]
    },
    {
      "cell_type": "code",
      "execution_count": null,
      "metadata": {
        "id": "O5FXT0nBd-sZ",
        "outputId": "0c3520d4-e491-4acf-ddcc-0ec26239b071"
      },
      "outputs": [
        {
          "name": "stdout",
          "output_type": "stream",
          "text": [
            "Accuracy (QDA): 0.761578947368421\n"
          ]
        }
      ],
      "source": [
        "import numpy as np\n",
        "from sklearn.decomposition import TruncatedSVD\n",
        "from sklearn.discriminant_analysis import QuadraticDiscriminantAnalysis\n",
        "from sklearn.metrics import accuracy_score\n",
        "\n",
        "# Chọn ngẫu nhiên 5000 chỉ mục từ tập dữ liệu huấn luyện\n",
        "train_random_indices = np.random.choice(combined_matrix_train.shape[0], 5000, replace=False)\n",
        "\n",
        "# Lấy các dòng tương ứng từ ma trận kết hợp huấn luyện\n",
        "combined_matrix_train_5000 = combined_matrix_train[train_random_indices]\n",
        "\n",
        "# Khởi tạo và huấn luyện mô hình TruncatedSVD để giảm số lượng đặc trưng\n",
        "n_components = 100  # Số lượng thành phần có thể điều chỉnh dựa trên dữ liệu của bạn\n",
        "svd = TruncatedSVD(n_components=n_components)\n",
        "combined_matrix_train_svd = svd.fit_transform(combined_matrix_train_5000)\n",
        "\n",
        "# Áp dụng TruncatedSVD cho tập kiểm tra\n",
        "combined_matrix_test_svd = svd.transform(combined_matrix_test)\n",
        "\n",
        "# Khởi tạo mô hình Quadratic Discriminant Analysis (QDA)\n",
        "qda_model = QuadraticDiscriminantAnalysis()\n",
        "\n",
        "# Huấn luyện mô hình trên dữ liệu đã áp dụng TruncatedSVD\n",
        "qda_model.fit(combined_matrix_train_svd, train_data['Class Index'].iloc[train_random_indices])\n",
        "\n",
        "# Dự đoán nhãn cho tập kiểm tra\n",
        "y_pred_qda = qda_model.predict(combined_matrix_test_svd)\n",
        "\n",
        "# Đánh giá mô hình trên tập kiểm tra\n",
        "accuracy_qda = accuracy_score(test_data['Class Index'], y_pred_qda)\n",
        "print(\"Accuracy (QDA):\", accuracy_qda)\n"
      ]
    },
    {
      "cell_type": "markdown",
      "metadata": {
        "id": "uao3Jvtqd-sa"
      },
      "source": [
        "### 10000 training data"
      ]
    },
    {
      "cell_type": "code",
      "execution_count": null,
      "metadata": {
        "id": "NFsqa0r5d-sb",
        "outputId": "a715c639-3f65-4249-feea-2a2eaa705fa4"
      },
      "outputs": [
        {
          "name": "stdout",
          "output_type": "stream",
          "text": [
            "Accuracy (QDA): 0.7676315789473684\n"
          ]
        }
      ],
      "source": [
        "import numpy as np\n",
        "from sklearn.decomposition import TruncatedSVD\n",
        "from sklearn.discriminant_analysis import QuadraticDiscriminantAnalysis\n",
        "from sklearn.metrics import accuracy_score\n",
        "\n",
        "# Chọn ngẫu nhiên 10000 chỉ mục từ tập dữ liệu huấn luyện\n",
        "train_random_indices = np.random.choice(combined_matrix_train.shape[0], 10000, replace=False)\n",
        "\n",
        "# Lấy các dòng tương ứng từ ma trận kết hợp huấn luyện\n",
        "combined_matrix_train_10000 = combined_matrix_train[train_random_indices]\n",
        "\n",
        "# Khởi tạo và huấn luyện mô hình TruncatedSVD để giảm số lượng đặc trưng\n",
        "n_components = 100  # Số lượng thành phần có thể điều chỉnh dựa trên dữ liệu của bạn\n",
        "svd = TruncatedSVD(n_components=n_components)\n",
        "combined_matrix_train_svd = svd.fit_transform(combined_matrix_train_10000)\n",
        "\n",
        "# Áp dụng TruncatedSVD cho tập kiểm tra\n",
        "combined_matrix_test_svd = svd.transform(combined_matrix_test)\n",
        "\n",
        "# Khởi tạo mô hình Quadratic Discriminant Analysis (QDA)\n",
        "qda_model = QuadraticDiscriminantAnalysis()\n",
        "\n",
        "# Huấn luyện mô hình trên dữ liệu đã áp dụng TruncatedSVD\n",
        "qda_model.fit(combined_matrix_train_svd, train_data['Class Index'].iloc[train_random_indices])\n",
        "\n",
        "# Dự đoán nhãn cho tập kiểm tra\n",
        "y_pred_qda = qda_model.predict(combined_matrix_test_svd)\n",
        "\n",
        "# Đánh giá mô hình trên tập kiểm tra\n",
        "accuracy_qda = accuracy_score(test_data['Class Index'], y_pred_qda)\n",
        "print(\"Accuracy (QDA):\", accuracy_qda)\n"
      ]
    },
    {
      "cell_type": "markdown",
      "metadata": {
        "id": "MQpLtGeUd-sb"
      },
      "source": [
        "### 20000 training data"
      ]
    },
    {
      "cell_type": "code",
      "execution_count": null,
      "metadata": {
        "id": "esbpASFkd-sc",
        "outputId": "8bceab28-e8d1-404c-f984-f7f68402a818"
      },
      "outputs": [
        {
          "name": "stdout",
          "output_type": "stream",
          "text": [
            "Accuracy (QDA): 0.7734210526315789\n"
          ]
        }
      ],
      "source": [
        "import numpy as np\n",
        "from sklearn.decomposition import TruncatedSVD\n",
        "from sklearn.discriminant_analysis import QuadraticDiscriminantAnalysis\n",
        "from sklearn.metrics import accuracy_score\n",
        "\n",
        "# Chọn ngẫu nhiên 20000 chỉ mục từ tập dữ liệu huấn luyện\n",
        "train_random_indices = np.random.choice(combined_matrix_train.shape[0], 20000, replace=False)\n",
        "\n",
        "# Lấy các dòng tương ứng từ ma trận kết hợp huấn luyện\n",
        "combined_matrix_train_20000 = combined_matrix_train[train_random_indices]\n",
        "\n",
        "# Khởi tạo và huấn luyện mô hình TruncatedSVD để giảm số lượng đặc trưng\n",
        "n_components = 100  # Số lượng thành phần có thể điều chỉnh dựa trên dữ liệu của bạn\n",
        "svd = TruncatedSVD(n_components=n_components)\n",
        "combined_matrix_train_svd = svd.fit_transform(combined_matrix_train_20000)\n",
        "\n",
        "# Áp dụng TruncatedSVD cho tập kiểm tra\n",
        "combined_matrix_test_svd = svd.transform(combined_matrix_test)\n",
        "\n",
        "# Khởi tạo mô hình Quadratic Discriminant Analysis (QDA)\n",
        "qda_model = QuadraticDiscriminantAnalysis()\n",
        "\n",
        "# Huấn luyện mô hình trên dữ liệu đã áp dụng TruncatedSVD\n",
        "qda_model.fit(combined_matrix_train_svd, train_data['Class Index'].iloc[train_random_indices])\n",
        "\n",
        "# Dự đoán nhãn cho tập kiểm tra\n",
        "y_pred_qda = qda_model.predict(combined_matrix_test_svd)\n",
        "\n",
        "# Đánh giá mô hình trên tập kiểm tra\n",
        "accuracy_qda = accuracy_score(test_data['Class Index'], y_pred_qda)\n",
        "print(\"Accuracy (QDA):\", accuracy_qda)\n"
      ]
    },
    {
      "cell_type": "markdown",
      "metadata": {
        "id": "2wa7BN6Qd-sd"
      },
      "source": [
        "### 50000 training data"
      ]
    },
    {
      "cell_type": "code",
      "execution_count": null,
      "metadata": {
        "id": "ib1cE4g3d-so",
        "outputId": "5b0b8c26-2a4e-4849-d3b5-5598b98d2dfe"
      },
      "outputs": [
        {
          "name": "stdout",
          "output_type": "stream",
          "text": [
            "Accuracy (QDA): 0.765921052631579\n"
          ]
        }
      ],
      "source": [
        "import numpy as np\n",
        "from sklearn.decomposition import TruncatedSVD\n",
        "from sklearn.discriminant_analysis import QuadraticDiscriminantAnalysis\n",
        "from sklearn.metrics import accuracy_score\n",
        "\n",
        "# Chọn ngẫu nhiên 50000 chỉ mục từ tập dữ liệu huấn luyện\n",
        "train_random_indices = np.random.choice(combined_matrix_train.shape[0], 50000, replace=False)\n",
        "\n",
        "# Lấy các dòng tương ứng từ ma trận kết hợp huấn luyện\n",
        "combined_matrix_train_50000 = combined_matrix_train[train_random_indices]\n",
        "\n",
        "# Khởi tạo và huấn luyện mô hình TruncatedSVD để giảm số lượng đặc trưng\n",
        "n_components = 100  # Số lượng thành phần có thể điều chỉnh dựa trên dữ liệu của bạn\n",
        "svd = TruncatedSVD(n_components=n_components)\n",
        "combined_matrix_train_svd = svd.fit_transform(combined_matrix_train_50000)\n",
        "\n",
        "# Áp dụng TruncatedSVD cho tập kiểm tra\n",
        "combined_matrix_test_svd = svd.transform(combined_matrix_test)\n",
        "\n",
        "# Khởi tạo mô hình Quadratic Discriminant Analysis (QDA)\n",
        "qda_model = QuadraticDiscriminantAnalysis()\n",
        "\n",
        "# Huấn luyện mô hình trên dữ liệu đã áp dụng TruncatedSVD\n",
        "qda_model.fit(combined_matrix_train_svd, train_data['Class Index'].iloc[train_random_indices])\n",
        "\n",
        "# Dự đoán nhãn cho tập kiểm tra\n",
        "y_pred_qda = qda_model.predict(combined_matrix_test_svd)\n",
        "\n",
        "# Đánh giá mô hình trên tập kiểm tra\n",
        "accuracy_qda = accuracy_score(test_data['Class Index'], y_pred_qda)\n",
        "print(\"Accuracy (QDA):\", accuracy_qda)\n"
      ]
    },
    {
      "cell_type": "markdown",
      "metadata": {
        "id": "6Emry74Fd-sq"
      },
      "source": [
        "### 100000 training data"
      ]
    },
    {
      "cell_type": "code",
      "execution_count": null,
      "metadata": {
        "id": "PKZ5MEXTd-sr",
        "outputId": "5d25bc35-82ca-4117-a212-7127ab30500b"
      },
      "outputs": [
        {
          "name": "stdout",
          "output_type": "stream",
          "text": [
            "Accuracy (QDA): 0.770921052631579\n"
          ]
        }
      ],
      "source": [
        "import numpy as np\n",
        "from sklearn.decomposition import TruncatedSVD\n",
        "from sklearn.discriminant_analysis import QuadraticDiscriminantAnalysis\n",
        "from sklearn.metrics import accuracy_score\n",
        "\n",
        "# Chọn ngẫu nhiên 100000 chỉ mục từ tập dữ liệu huấn luyện\n",
        "train_random_indices = np.random.choice(combined_matrix_train.shape[0], 100000, replace=False)\n",
        "\n",
        "# Lấy các dòng tương ứng từ ma trận kết hợp huấn luyện\n",
        "combined_matrix_train_100000 = combined_matrix_train[train_random_indices]\n",
        "\n",
        "# Khởi tạo và huấn luyện mô hình TruncatedSVD để giảm số lượng đặc trưng\n",
        "n_components = 100  # Số lượng thành phần có thể điều chỉnh dựa trên dữ liệu của bạn\n",
        "svd = TruncatedSVD(n_components=n_components)\n",
        "combined_matrix_train_svd = svd.fit_transform(combined_matrix_train_100000)\n",
        "\n",
        "# Áp dụng TruncatedSVD cho tập kiểm tra\n",
        "combined_matrix_test_svd = svd.transform(combined_matrix_test)\n",
        "\n",
        "# Khởi tạo mô hình Quadratic Discriminant Analysis (QDA)\n",
        "qda_model = QuadraticDiscriminantAnalysis()\n",
        "\n",
        "# Huấn luyện mô hình trên dữ liệu đã áp dụng TruncatedSVD\n",
        "qda_model.fit(combined_matrix_train_svd, train_data['Class Index'].iloc[train_random_indices])\n",
        "\n",
        "# Dự đoán nhãn cho tập kiểm tra\n",
        "y_pred_qda = qda_model.predict(combined_matrix_test_svd)\n",
        "\n",
        "# Đánh giá mô hình trên tập kiểm tra\n",
        "accuracy_qda = accuracy_score(test_data['Class Index'], y_pred_qda)\n",
        "print(\"Accuracy (QDA):\", accuracy_qda)\n"
      ]
    },
    {
      "cell_type": "markdown",
      "metadata": {
        "id": "K5PIACW0d-ss"
      },
      "source": [
        "### 120000 training data"
      ]
    },
    {
      "cell_type": "code",
      "execution_count": null,
      "metadata": {
        "id": "7SY91h7_d-st",
        "outputId": "19e4abbc-29ff-4a77-b907-b272ff5e48cd"
      },
      "outputs": [
        {
          "name": "stdout",
          "output_type": "stream",
          "text": [
            "Accuracy (QDA): 0.7714473684210527\n"
          ]
        }
      ],
      "source": [
        "import numpy as np\n",
        "from sklearn.decomposition import TruncatedSVD\n",
        "from sklearn.discriminant_analysis import QuadraticDiscriminantAnalysis\n",
        "from sklearn.metrics import accuracy_score\n",
        "\n",
        "# Chọn ngẫu nhiên 120000 chỉ mục từ tập dữ liệu huấn luyện\n",
        "train_random_indices = np.random.choice(combined_matrix_train.shape[0], 120000, replace=False)\n",
        "\n",
        "# Lấy các dòng tương ứng từ ma trận kết hợp huấn luyện\n",
        "combined_matrix_train_120000 = combined_matrix_train[train_random_indices]\n",
        "\n",
        "# Khởi tạo và huấn luyện mô hình TruncatedSVD để giảm số lượng đặc trưng\n",
        "n_components = 100  # Số lượng thành phần có thể điều chỉnh dựa trên dữ liệu của bạn\n",
        "svd = TruncatedSVD(n_components=n_components)\n",
        "combined_matrix_train_svd = svd.fit_transform(combined_matrix_train_120000)\n",
        "\n",
        "# Áp dụng TruncatedSVD cho tập kiểm tra\n",
        "combined_matrix_test_svd = svd.transform(combined_matrix_test)\n",
        "\n",
        "# Khởi tạo mô hình Quadratic Discriminant Analysis (QDA)\n",
        "qda_model = QuadraticDiscriminantAnalysis()\n",
        "\n",
        "# Huấn luyện mô hình trên dữ liệu đã áp dụng TruncatedSVD\n",
        "qda_model.fit(combined_matrix_train_svd, train_data['Class Index'].iloc[train_random_indices])\n",
        "\n",
        "# Dự đoán nhãn cho tập kiểm tra\n",
        "y_pred_qda = qda_model.predict(combined_matrix_test_svd)\n",
        "\n",
        "# Đánh giá mô hình trên tập kiểm tra\n",
        "accuracy_qda = accuracy_score(test_data['Class Index'], y_pred_qda)\n",
        "print(\"Accuracy (QDA):\", accuracy_qda)\n"
      ]
    },
    {
      "cell_type": "markdown",
      "metadata": {
        "id": "919Mq70Md-su"
      },
      "source": [
        "## SVM"
      ]
    },
    {
      "cell_type": "markdown",
      "metadata": {
        "id": "HVlSfRMEd-su"
      },
      "source": [
        "Do tài nguyên có hạn nên dùng Stochastic Gradient Descent (SGD) thay vì SVM truyền thống có thể là cần thiết để đảm bảo rằng mô hình có thể hoạt động hiệu quả trên tài nguyên có hạn."
      ]
    },
    {
      "cell_type": "markdown",
      "metadata": {
        "id": "Y-eCWZo4d-sx"
      },
      "source": [
        "### 5000 training data"
      ]
    },
    {
      "cell_type": "code",
      "execution_count": null,
      "metadata": {
        "id": "II_jy7Fod-sy",
        "outputId": "7b41c66d-c9a1-4d7c-f7f2-139207c1a230"
      },
      "outputs": [
        {
          "name": "stdout",
          "output_type": "stream",
          "text": [
            "Accuracy (SVM with SGD): 0.8465789473684211\n"
          ]
        }
      ],
      "source": [
        "from sklearn.linear_model import SGDClassifier\n",
        "from sklearn.metrics import accuracy_score\n",
        "import numpy as np\n",
        "\n",
        "# Chọn ngẫu nhiên 5000 chỉ mục từ tập dữ liệu huấn luyện\n",
        "train_random_indices = np.random.choice(combined_matrix_train.shape[0], 5000, replace=False)\n",
        "\n",
        "# Lấy các dòng tương ứng từ ma trận kết hợp huấn luyện\n",
        "combined_matrix_train_5000 = combined_matrix_train[train_random_indices]\n",
        "\n",
        "# Khởi tạo mô hình SGDClassifier với SVM tuyến tính\n",
        "sgd_model = SGDClassifier(loss='hinge', max_iter=1000, tol=1e-3)\n",
        "\n",
        "# Huấn luyện mô hình trên mẫu dữ liệu mới chỉ chứa 5000 mẫu\n",
        "sgd_model.fit(combined_matrix_train_5000, train_data['Class Index'].iloc[train_random_indices])\n",
        "\n",
        "# Dự đoán nhãn cho tập kiểm tra\n",
        "y_pred_sgd = sgd_model.predict(combined_matrix_test)\n",
        "\n",
        "# Đánh giá mô hình trên tập kiểm tra\n",
        "accuracy_sgd = accuracy_score(test_data['Class Index'], y_pred_sgd)\n",
        "print(\"Accuracy (SVM with SGD):\", accuracy_sgd)\n"
      ]
    },
    {
      "cell_type": "markdown",
      "metadata": {
        "id": "FI2dDhXVd-sz"
      },
      "source": [
        "### 10000 training data"
      ]
    },
    {
      "cell_type": "code",
      "execution_count": null,
      "metadata": {
        "id": "ZUQ9a-PAd-sz",
        "outputId": "46b92c85-62ae-4ab4-d06d-dffb820eebbd"
      },
      "outputs": [
        {
          "name": "stdout",
          "output_type": "stream",
          "text": [
            "Accuracy (SVM with SGD): 0.8619736842105263\n"
          ]
        }
      ],
      "source": [
        "from sklearn.linear_model import SGDClassifier\n",
        "from sklearn.metrics import accuracy_score\n",
        "import numpy as np\n",
        "\n",
        "# Chọn ngẫu nhiên 10000 chỉ mục từ tập dữ liệu huấn luyện\n",
        "train_random_indices = np.random.choice(combined_matrix_train.shape[0], 10000, replace=False)\n",
        "\n",
        "# Lấy các dòng tương ứng từ ma trận kết hợp huấn luyện\n",
        "combined_matrix_train_10000 = combined_matrix_train[train_random_indices]\n",
        "\n",
        "# Khởi tạo mô hình SGDClassifier với SVM tuyến tính\n",
        "sgd_model = SGDClassifier(loss='hinge', max_iter=1000, tol=1e-3)\n",
        "\n",
        "# Huấn luyện mô hình trên mẫu dữ liệu mới chỉ chứa 10000 mẫu\n",
        "sgd_model.fit(combined_matrix_train_10000, train_data['Class Index'].iloc[train_random_indices])\n",
        "\n",
        "# Dự đoán nhãn cho tập kiểm tra\n",
        "y_pred_sgd = sgd_model.predict(combined_matrix_test)\n",
        "\n",
        "# Đánh giá mô hình trên tập kiểm tra\n",
        "accuracy_sgd = accuracy_score(test_data['Class Index'], y_pred_sgd)\n",
        "print(\"Accuracy (SVM with SGD):\", accuracy_sgd)\n"
      ]
    },
    {
      "cell_type": "markdown",
      "metadata": {
        "id": "lCkGmaX-d-s0"
      },
      "source": [
        "### 20000 training data"
      ]
    },
    {
      "cell_type": "code",
      "execution_count": null,
      "metadata": {
        "id": "bqDAn_aed-s0",
        "outputId": "8d99dd98-5bec-4061-c1e5-dcdca809df43"
      },
      "outputs": [
        {
          "name": "stdout",
          "output_type": "stream",
          "text": [
            "Accuracy (SVM with SGD): 0.8775\n"
          ]
        }
      ],
      "source": [
        "from sklearn.linear_model import SGDClassifier\n",
        "from sklearn.metrics import accuracy_score\n",
        "import numpy as np\n",
        "\n",
        "# Chọn ngẫu nhiên 20000 chỉ mục từ tập dữ liệu huấn luyện\n",
        "train_random_indices = np.random.choice(combined_matrix_train.shape[0], 20000, replace=False)\n",
        "\n",
        "# Lấy các dòng tương ứng từ ma trận kết hợp huấn luyện\n",
        "combined_matrix_train_20000 = combined_matrix_train[train_random_indices]\n",
        "\n",
        "# Khởi tạo mô hình SGDClassifier với SVM tuyến tính\n",
        "sgd_model = SGDClassifier(loss='hinge', max_iter=1000, tol=1e-3)\n",
        "\n",
        "# Huấn luyện mô hình trên mẫu dữ liệu mới chỉ chứa 20000 mẫu\n",
        "sgd_model.fit(combined_matrix_train_20000, train_data['Class Index'].iloc[train_random_indices])\n",
        "\n",
        "# Dự đoán nhãn cho tập kiểm tra\n",
        "y_pred_sgd = sgd_model.predict(combined_matrix_test)\n",
        "\n",
        "# Đánh giá mô hình trên tập kiểm tra\n",
        "accuracy_sgd = accuracy_score(test_data['Class Index'], y_pred_sgd)\n",
        "print(\"Accuracy (SVM with SGD):\", accuracy_sgd)\n"
      ]
    },
    {
      "cell_type": "markdown",
      "metadata": {
        "id": "5z8I7frQd-s2"
      },
      "source": [
        "### 50000 training data"
      ]
    },
    {
      "cell_type": "code",
      "execution_count": null,
      "metadata": {
        "id": "vNhSqGdGd-s3",
        "outputId": "5d80338c-65e0-409a-ab4c-f42ba40906f1"
      },
      "outputs": [
        {
          "name": "stdout",
          "output_type": "stream",
          "text": [
            "Accuracy (SVM with SGD): 0.9085526315789474\n"
          ]
        }
      ],
      "source": [
        "from sklearn.linear_model import SGDClassifier\n",
        "from sklearn.metrics import accuracy_score\n",
        "import numpy as np\n",
        "\n",
        "# Chọn ngẫu nhiên 50000 chỉ mục từ tập dữ liệu huấn luyện\n",
        "train_random_indices = np.random.choice(combined_matrix_train.shape[0], 50000, replace=False)\n",
        "\n",
        "# Lấy các dòng tương ứng từ ma trận kết hợp huấn luyện\n",
        "combined_matrix_train_50000 = combined_matrix_train[train_random_indices]\n",
        "\n",
        "# Khởi tạo mô hình SGDClassifier với SVM tuyến tính\n",
        "sgd_model = SGDClassifier(loss='hinge', max_iter=1000, tol=1e-3)\n",
        "\n",
        "# Huấn luyện mô hình trên mẫu dữ liệu mới chỉ chứa 50000 mẫu\n",
        "sgd_model.fit(combined_matrix_train_50000, train_data['Class Index'].iloc[train_random_indices])\n",
        "\n",
        "# Dự đoán nhãn cho tập kiểm tra\n",
        "y_pred_sgd = sgd_model.predict(combined_matrix_test)\n",
        "\n",
        "# Đánh giá mô hình trên tập kiểm tra\n",
        "accuracy_sgd = accuracy_score(test_data['Class Index'], y_pred_sgd)\n",
        "print(\"Accuracy (SVM with SGD):\", accuracy_sgd)\n"
      ]
    },
    {
      "cell_type": "markdown",
      "metadata": {
        "id": "2vjPdb3od-s5"
      },
      "source": [
        "### 100000 training data"
      ]
    },
    {
      "cell_type": "code",
      "execution_count": null,
      "metadata": {
        "id": "aVdYA2HId-s6",
        "outputId": "52d29a67-57c0-4ec6-dd24-99c86db58906"
      },
      "outputs": [
        {
          "name": "stdout",
          "output_type": "stream",
          "text": [
            "Accuracy (SVM with SGD): 0.9163157894736842\n"
          ]
        }
      ],
      "source": [
        "from sklearn.linear_model import SGDClassifier\n",
        "from sklearn.metrics import accuracy_score\n",
        "import numpy as np\n",
        "\n",
        "# Chọn ngẫu nhiên 100000 chỉ mục từ tập dữ liệu huấn luyện\n",
        "train_random_indices = np.random.choice(combined_matrix_train.shape[0], 100000, replace=False)\n",
        "\n",
        "# Lấy các dòng tương ứng từ ma trận kết hợp huấn luyện\n",
        "combined_matrix_train_100000 = combined_matrix_train[train_random_indices]\n",
        "\n",
        "# Khởi tạo mô hình SGDClassifier với SVM tuyến tính\n",
        "sgd_model = SGDClassifier(loss='hinge', max_iter=1000, tol=1e-3)\n",
        "\n",
        "# Huấn luyện mô hình trên mẫu dữ liệu mới chỉ chứa 100000 mẫu\n",
        "sgd_model.fit(combined_matrix_train_100000, train_data['Class Index'].iloc[train_random_indices])\n",
        "\n",
        "# Dự đoán nhãn cho tập kiểm tra\n",
        "y_pred_sgd = sgd_model.predict(combined_matrix_test)\n",
        "\n",
        "# Đánh giá mô hình trên tập kiểm tra\n",
        "accuracy_sgd = accuracy_score(test_data['Class Index'], y_pred_sgd)\n",
        "print(\"Accuracy (SVM with SGD):\", accuracy_sgd)\n"
      ]
    },
    {
      "cell_type": "markdown",
      "metadata": {
        "id": "1HuKM98bd-s7"
      },
      "source": [
        "### 120000 training data"
      ]
    },
    {
      "cell_type": "code",
      "execution_count": null,
      "metadata": {
        "id": "sBVVRNwId-s7",
        "outputId": "ae159fe7-dcf8-4fba-d99d-9df153cd2df1"
      },
      "outputs": [
        {
          "name": "stdout",
          "output_type": "stream",
          "text": [
            "Accuracy (SVM with SGD): 0.9194736842105263\n"
          ]
        }
      ],
      "source": [
        "from sklearn.linear_model import SGDClassifier\n",
        "from sklearn.metrics import accuracy_score\n",
        "import numpy as np\n",
        "\n",
        "# Chọn ngẫu nhiên 120000 chỉ mục từ tập dữ liệu huấn luyện\n",
        "train_random_indices = np.random.choice(combined_matrix_train.shape[0], 120000, replace=False)\n",
        "\n",
        "# Lấy các dòng tương ứng từ ma trận kết hợp huấn luyện\n",
        "combined_matrix_train_120000 = combined_matrix_train[train_random_indices]\n",
        "\n",
        "# Khởi tạo mô hình SGDClassifier với SVM tuyến tính\n",
        "sgd_model = SGDClassifier(loss='hinge', max_iter=1000, tol=1e-3)\n",
        "\n",
        "# Huấn luyện mô hình trên mẫu dữ liệu mới chỉ chứa 120000 mẫu\n",
        "sgd_model.fit(combined_matrix_train_120000, train_data['Class Index'].iloc[train_random_indices])\n",
        "\n",
        "# Dự đoán nhãn cho tập kiểm tra\n",
        "y_pred_sgd = sgd_model.predict(combined_matrix_test)\n",
        "\n",
        "# Đánh giá mô hình trên tập kiểm tra\n",
        "accuracy_sgd = accuracy_score(test_data['Class Index'], y_pred_sgd)\n",
        "print(\"Accuracy (SVM with SGD):\", accuracy_sgd)\n"
      ]
    },
    {
      "cell_type": "markdown",
      "metadata": {
        "id": "Fm5dVQc6d-s9"
      },
      "source": [
        "## Bagging"
      ]
    },
    {
      "cell_type": "markdown",
      "source": [
        "Do tài nguyên có hạn nên chỉ giới hạn số lượng mô hình base lại"
      ],
      "metadata": {
        "id": "nvn82mVdeFxb"
      }
    },
    {
      "cell_type": "markdown",
      "metadata": {
        "id": "8Plk2X8Jd-s9"
      },
      "source": [
        "### 5000 training data"
      ]
    },
    {
      "cell_type": "code",
      "execution_count": null,
      "metadata": {
        "id": "kRTs_9Ded-s_",
        "outputId": "31202e0a-71c3-484b-b51f-35c07b0cf6c3"
      },
      "outputs": [
        {
          "name": "stdout",
          "output_type": "stream",
          "text": [
            "Accuracy (Bagging): 0.743421052631579\n"
          ]
        }
      ],
      "source": [
        "from sklearn.ensemble import BaggingClassifier\n",
        "from sklearn.tree import DecisionTreeClassifier\n",
        "from sklearn.metrics import accuracy_score\n",
        "import numpy as np\n",
        "\n",
        "# Chọn ngẫu nhiên 5000 chỉ mục từ tập dữ liệu huấn luyện\n",
        "train_random_indices = np.random.choice(combined_matrix_train.shape[0], 5000, replace=False)\n",
        "\n",
        "# Lấy các dòng tương ứng từ ma trận kết hợp huấn luyện\n",
        "combined_matrix_train_5000 = combined_matrix_train[train_random_indices]\n",
        "train_labels_5000 = train_data['Class Index'].iloc[train_random_indices]\n",
        "\n",
        "# Khởi tạo mô hình Decision Tree base\n",
        "base_model = DecisionTreeClassifier()\n",
        "\n",
        "n_estimators = 5\n",
        "\n",
        "# Khởi tạo mô hình Bagging với Decision Tree base và số lượng cây giảm\n",
        "bagging_model = BaggingClassifier(base_model, n_estimators=n_estimators, random_state=42)\n",
        "\n",
        "# Huấn luyện mô hình Bagging\n",
        "bagging_model.fit(combined_matrix_train_5000, train_labels_5000)\n",
        "\n",
        "# Dự đoán nhãn cho tập kiểm tra\n",
        "y_pred_bagging = bagging_model.predict(combined_matrix_test)\n",
        "\n",
        "# Đánh giá mô hình trên tập kiểm tra\n",
        "accuracy_bagging = accuracy_score(test_data['Class Index'], y_pred_bagging)\n",
        "print(\"Accuracy (Bagging):\", accuracy_bagging)\n"
      ]
    },
    {
      "cell_type": "markdown",
      "metadata": {
        "id": "sqFDu5bhd-tD"
      },
      "source": [
        "### 10000 training data"
      ]
    },
    {
      "cell_type": "code",
      "execution_count": null,
      "metadata": {
        "id": "YxyM1U1Dd-tE",
        "outputId": "f556869f-2e17-4791-c414-6b591969a6f3"
      },
      "outputs": [
        {
          "name": "stdout",
          "output_type": "stream",
          "text": [
            "Accuracy (Bagging): 0.7692105263157895\n"
          ]
        }
      ],
      "source": [
        "from sklearn.ensemble import BaggingClassifier\n",
        "from sklearn.tree import DecisionTreeClassifier\n",
        "from sklearn.metrics import accuracy_score\n",
        "import numpy as np\n",
        "\n",
        "# Chọn ngẫu nhiên 10000 chỉ mục từ tập dữ liệu huấn luyện\n",
        "train_random_indices = np.random.choice(combined_matrix_train.shape[0], 10000, replace=False)\n",
        "\n",
        "# Lấy các dòng tương ứng từ ma trận kết hợp huấn luyện\n",
        "combined_matrix_train_10000 = combined_matrix_train[train_random_indices]\n",
        "train_labels_10000 = train_data['Class Index'].iloc[train_random_indices]\n",
        "\n",
        "# Khởi tạo mô hình Decision Tree base\n",
        "base_model = DecisionTreeClassifier()\n",
        "\n",
        "n_estimators = 5\n",
        "\n",
        "# Khởi tạo mô hình Bagging với Decision Tree base và số lượng cây giảm\n",
        "bagging_model = BaggingClassifier(base_model, n_estimators=n_estimators, random_state=42)\n",
        "\n",
        "# Huấn luyện mô hình Bagging\n",
        "bagging_model.fit(combined_matrix_train_10000, train_labels_10000)\n",
        "\n",
        "# Dự đoán nhãn cho tập kiểm tra\n",
        "y_pred_bagging = bagging_model.predict(combined_matrix_test)\n",
        "\n",
        "# Đánh giá mô hình trên tập kiểm tra\n",
        "accuracy_bagging = accuracy_score(test_data['Class Index'], y_pred_bagging)\n",
        "print(\"Accuracy (Bagging):\", accuracy_bagging)\n"
      ]
    },
    {
      "cell_type": "markdown",
      "metadata": {
        "id": "_4BxOLENd-tF"
      },
      "source": [
        "### 20000 training data"
      ]
    },
    {
      "cell_type": "code",
      "execution_count": null,
      "metadata": {
        "id": "Yq9FB5RRd-tR",
        "outputId": "ba6942e0-3ee7-4727-edf4-631752346146"
      },
      "outputs": [
        {
          "name": "stdout",
          "output_type": "stream",
          "text": [
            "Accuracy (Bagging): 0.7886842105263158\n"
          ]
        }
      ],
      "source": [
        "from sklearn.ensemble import BaggingClassifier\n",
        "from sklearn.tree import DecisionTreeClassifier\n",
        "from sklearn.metrics import accuracy_score\n",
        "import numpy as np\n",
        "\n",
        "# Chọn ngẫu nhiên 20000 chỉ mục từ tập dữ liệu huấn luyện\n",
        "train_random_indices = np.random.choice(combined_matrix_train.shape[0], 20000, replace=False)\n",
        "\n",
        "# Lấy các dòng tương ứng từ ma trận kết hợp huấn luyện\n",
        "combined_matrix_train_20000 = combined_matrix_train[train_random_indices]\n",
        "train_labels_20000 = train_data['Class Index'].iloc[train_random_indices]\n",
        "\n",
        "# Khởi tạo mô hình Decision Tree base\n",
        "base_model = DecisionTreeClassifier()\n",
        "\n",
        "n_estimators = 5\n",
        "\n",
        "# Khởi tạo mô hình Bagging với Decision Tree base và số lượng cây giảm\n",
        "bagging_model = BaggingClassifier(base_model, n_estimators=n_estimators, random_state=42)\n",
        "\n",
        "# Huấn luyện mô hình Bagging\n",
        "bagging_model.fit(combined_matrix_train_20000, train_labels_20000)\n",
        "\n",
        "# Dự đoán nhãn cho tập kiểm tra\n",
        "y_pred_bagging = bagging_model.predict(combined_matrix_test)\n",
        "\n",
        "# Đánh giá mô hình trên tập kiểm tra\n",
        "accuracy_bagging = accuracy_score(test_data['Class Index'], y_pred_bagging)\n",
        "print(\"Accuracy (Bagging):\", accuracy_bagging)\n"
      ]
    },
    {
      "cell_type": "markdown",
      "metadata": {
        "id": "PuzloBChd-tT"
      },
      "source": [
        "### 50000 training data"
      ]
    },
    {
      "cell_type": "code",
      "execution_count": null,
      "metadata": {
        "id": "fraVu4mAd-tT",
        "outputId": "87af483d-3a52-48b3-a329-0c45738c0eb5"
      },
      "outputs": [
        {
          "name": "stdout",
          "output_type": "stream",
          "text": [
            "Accuracy (Bagging): 0.8281578947368421\n"
          ]
        }
      ],
      "source": [
        "from sklearn.ensemble import BaggingClassifier\n",
        "from sklearn.tree import DecisionTreeClassifier\n",
        "from sklearn.metrics import accuracy_score\n",
        "import numpy as np\n",
        "\n",
        "# Chọn ngẫu nhiên 50000 chỉ mục từ tập dữ liệu huấn luyện\n",
        "train_random_indices = np.random.choice(combined_matrix_train.shape[0], 50000, replace=False)\n",
        "\n",
        "# Lấy các dòng tương ứng từ ma trận kết hợp huấn luyện\n",
        "combined_matrix_train_50000 = combined_matrix_train[train_random_indices]\n",
        "train_labels_50000 = train_data['Class Index'].iloc[train_random_indices]\n",
        "\n",
        "# Khởi tạo mô hình Decision Tree base\n",
        "base_model = DecisionTreeClassifier()\n",
        "\n",
        "n_estimators = 5\n",
        "\n",
        "# Khởi tạo mô hình Bagging với Decision Tree base và số lượng cây giảm\n",
        "bagging_model = BaggingClassifier(base_model, n_estimators=n_estimators, random_state=42)\n",
        "\n",
        "# Huấn luyện mô hình Bagging\n",
        "bagging_model.fit(combined_matrix_train_50000, train_labels_50000)\n",
        "\n",
        "# Dự đoán nhãn cho tập kiểm tra\n",
        "y_pred_bagging = bagging_model.predict(combined_matrix_test)\n",
        "\n",
        "# Đánh giá mô hình trên tập kiểm tra\n",
        "accuracy_bagging = accuracy_score(test_data['Class Index'], y_pred_bagging)\n",
        "print(\"Accuracy (Bagging):\", accuracy_bagging)\n"
      ]
    },
    {
      "cell_type": "markdown",
      "metadata": {
        "id": "4Lscumu9d-tU"
      },
      "source": [
        "### 100000 training data"
      ]
    },
    {
      "cell_type": "code",
      "execution_count": null,
      "metadata": {
        "id": "eALGsqZPd-tU",
        "outputId": "38fe74e5-47ee-44c3-ce1b-463e0b091474"
      },
      "outputs": [
        {
          "name": "stdout",
          "output_type": "stream",
          "text": [
            "Accuracy (Bagging): 0.8351315789473684\n"
          ]
        }
      ],
      "source": [
        "from sklearn.ensemble import BaggingClassifier\n",
        "from sklearn.tree import DecisionTreeClassifier\n",
        "from sklearn.metrics import accuracy_score\n",
        "import numpy as np\n",
        "\n",
        "# Chọn ngẫu nhiên 100000 chỉ mục từ tập dữ liệu huấn luyện\n",
        "train_random_indices = np.random.choice(combined_matrix_train.shape[0], 100000, replace=False)\n",
        "\n",
        "# Lấy các dòng tương ứng từ ma trận kết hợp huấn luyện\n",
        "combined_matrix_train_100000 = combined_matrix_train[train_random_indices]\n",
        "train_labels_100000 = train_data['Class Index'].iloc[train_random_indices]\n",
        "\n",
        "# Khởi tạo mô hình Decision Tree base\n",
        "base_model = DecisionTreeClassifier()\n",
        "\n",
        "n_estimators = 5\n",
        "\n",
        "# Khởi tạo mô hình Bagging với Decision Tree base và số lượng cây giảm\n",
        "bagging_model = BaggingClassifier(base_model, n_estimators=n_estimators, random_state=42)\n",
        "\n",
        "# Huấn luyện mô hình Bagging\n",
        "bagging_model.fit(combined_matrix_train_100000, train_labels_100000)\n",
        "\n",
        "# Dự đoán nhãn cho tập kiểm tra\n",
        "y_pred_bagging = bagging_model.predict(combined_matrix_test)\n",
        "\n",
        "# Đánh giá mô hình trên tập kiểm tra\n",
        "accuracy_bagging = accuracy_score(test_data['Class Index'], y_pred_bagging)\n",
        "print(\"Accuracy (Bagging):\", accuracy_bagging)\n"
      ]
    },
    {
      "cell_type": "markdown",
      "metadata": {
        "id": "zehgG4sId-tV"
      },
      "source": [
        "### 120000 training data"
      ]
    },
    {
      "cell_type": "code",
      "execution_count": null,
      "metadata": {
        "id": "2u6aXbq1d-tV",
        "outputId": "8f7eb8f5-eed3-4f70-e8d1-3533872b9156"
      },
      "outputs": [
        {
          "name": "stdout",
          "output_type": "stream",
          "text": [
            "Accuracy (Bagging): 0.8439473684210527\n"
          ]
        }
      ],
      "source": [
        "from sklearn.ensemble import BaggingClassifier\n",
        "from sklearn.tree import DecisionTreeClassifier\n",
        "from sklearn.metrics import accuracy_score\n",
        "import numpy as np\n",
        "\n",
        "# Chọn ngẫu nhiên 120000 chỉ mục từ tập dữ liệu huấn luyện\n",
        "train_random_indices = np.random.choice(combined_matrix_train.shape[0], 120000, replace=False)\n",
        "\n",
        "# Lấy các dòng tương ứng từ ma trận kết hợp huấn luyện\n",
        "combined_matrix_train_120000 = combined_matrix_train[train_random_indices]\n",
        "train_labels_120000 = train_data['Class Index'].iloc[train_random_indices]\n",
        "\n",
        "# Khởi tạo mô hình Decision Tree base\n",
        "base_model = DecisionTreeClassifier()\n",
        "\n",
        "n_estimators = 5\n",
        "\n",
        "# Khởi tạo mô hình Bagging với Decision Tree base và số lượng cây giảm\n",
        "bagging_model = BaggingClassifier(base_model, n_estimators=n_estimators, random_state=42)\n",
        "\n",
        "# Huấn luyện mô hình Bagging\n",
        "bagging_model.fit(combined_matrix_train_120000, train_labels_120000)\n",
        "\n",
        "# Dự đoán nhãn cho tập kiểm tra\n",
        "y_pred_bagging = bagging_model.predict(combined_matrix_test)\n",
        "\n",
        "# Đánh giá mô hình trên tập kiểm tra\n",
        "accuracy_bagging = accuracy_score(test_data['Class Index'], y_pred_bagging)\n",
        "print(\"Accuracy (Bagging):\", accuracy_bagging)\n"
      ]
    }
  ],
  "metadata": {
    "kernelspec": {
      "display_name": "Python 3",
      "language": "python",
      "name": "python3"
    },
    "language_info": {
      "codemirror_mode": {
        "name": "ipython",
        "version": 3
      },
      "file_extension": ".py",
      "mimetype": "text/x-python",
      "name": "python",
      "nbconvert_exporter": "python",
      "pygments_lexer": "ipython3",
      "version": "3.12.2"
    },
    "colab": {
      "provenance": [],
      "toc_visible": true,
      "include_colab_link": true
    }
  },
  "nbformat": 4,
  "nbformat_minor": 0
}